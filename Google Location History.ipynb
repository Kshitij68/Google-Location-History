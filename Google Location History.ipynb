{
 "cells": [
  {
   "cell_type": "markdown",
   "metadata": {},
   "source": [
    "# Importing Libraries"
   ]
  },
  {
   "cell_type": "code",
   "execution_count": 1,
   "metadata": {},
   "outputs": [],
   "source": [
    "import json\n",
    "import time\n",
    "import datetime\n",
    "import numpy as np\n",
    "import pandas as pd\n",
    "import matplotlib.pyplot as plt\n",
    "from matplotlib.collections import PatchCollection\n",
    "from IPython.display import Image\n",
    "import seaborn as sns\n",
    "import warnings\n",
    "warnings.filterwarnings('ignore')"
   ]
  },
  {
   "cell_type": "markdown",
   "metadata": {},
   "source": [
    "# Importing the JSON file"
   ]
  },
  {
   "cell_type": "code",
   "execution_count": 2,
   "metadata": {},
   "outputs": [],
   "source": [
    "with open('Location History.json', 'r') as fh:\n",
    "    data = json.loads(fh.read())\n",
    "data = data['locations']"
   ]
  },
  {
   "cell_type": "markdown",
   "metadata": {},
   "source": [
    "# Data-Preprocessing"
   ]
  },
  {
   "cell_type": "code",
   "execution_count": 3,
   "metadata": {},
   "outputs": [],
   "source": [
    "def get_normalized_activities(activities):\n",
    "    data = list()\n",
    "    for activity in activities:\n",
    "        temp = list()\n",
    "        for act in activity['activity']:\n",
    "            temp.append(act)\n",
    "        total = sum([value['confidence'] for value in temp])\n",
    "        temp = [{'type':value['type'],'confidence':value['confidence']/total} for value in temp]\n",
    "        data += temp\n",
    "    return data\n",
    "\n",
    "def get_date(time):\n",
    "    day = time.day\n",
    "    hour = time.hour\n",
    "\n",
    "    day_of_week = time.weekday()\n",
    "    day_of_week_index = [0,1,2,3,4,5,6]\n",
    "    day_of_week_name = ['Mon','Tues','Wed','Thurs','Fri','Sat','Sun']\n",
    "    index = day_of_week_index.index(day_of_week)\n",
    "    day_of_week = day_of_week_name[index]\n",
    "\n",
    "    year = time.year\n",
    "\n",
    "    month = time.month\n",
    "    month_index = [1,2,3,4,5,6,7,8,9,10,11,12]\n",
    "    month_name = ['Jan','Feb','March','April','May','June','July','Aug','Sep','Oct','Nov','Dec']\n",
    "    index = month_index.index(month)\n",
    "    month = month_name[index]\n",
    "    \n",
    "    return {'day':day, 'hour':hour,'day_of_week':day_of_week, 'month':month, 'year':year}\n",
    "\n",
    "def remove_wrong_data(data):\n",
    "    degrees_to_radians = np.pi/180.0\n",
    "    data_new = list()\n",
    "    for index in range(len(data)):\n",
    "        longitude = data[index]['longitudeE7']/float(1e7)\n",
    "        if longitude > 68 and longitude < 93:\n",
    "            data_new.append(data[index])\n",
    "    return data_new\n",
    "\n",
    "def get_data(data):\n",
    "    data = remove_wrong_data(data)\n",
    "    degrees_to_radians = np.pi/180.0\n",
    "    data = sorted(data,key = lambda x: x['timestampMs'])\n",
    "    for index in range(len(data)):\n",
    "        data[index]['latitudeE7']  = data[index]['latitudeE7']/float(1e7)\n",
    "        data[index]['longitudeE7'] = data[index]['longitudeE7']/float(1e7)\n",
    "        data[index]['timestampMs'] = float(data[index]['timestampMs'])/1000\n",
    "        data[index]['datetime'] = datetime.datetime.fromtimestamp(data[index]['timestampMs'])\n",
    "        dates = get_date(data[index]['datetime'])\n",
    "        data[index]['day'] = dates['day']\n",
    "        data[index]['day_of_week'] = dates['day_of_week']\n",
    "        data[index]['month'] = dates['month']\n",
    "        data[index]['year'] = dates['year']\n",
    "        data[index]['hour'] = dates['hour']\n",
    "        data[index]['phi'] = (90.0 - data[index]['latitudeE7']) * degrees_to_radians\n",
    "        data[index]['theta'] = data[index]['longitudeE7'] * degrees_to_radians\n",
    "        if 'activity' in data[index].keys():\n",
    "            data[index]['activity'] = get_normalized_activities(data[index]['activity'])\n",
    "        if index != 0:\n",
    "            data[index]['distance'] = np.arccos(\n",
    "            np.sin(data[index]['phi'])*np.sin(data[index-1]['phi']) * np.cos(data[index]['theta'] - data[index-1]['theta']) + \n",
    "            np.cos(data[index]['phi'])*np.cos(data[index-1]['phi'])) * 6378.100\n",
    "            data[index]['speed'] = data[index]['distance'] / (data[index]['timestampMs'] - data[index-1]['timestampMs'])*3600\n",
    "    del data[0]\n",
    "    return data\n",
    "\n",
    "def get_new_data(data):\n",
    "    data_new = list()\n",
    "    for dictionary in data:\n",
    "        if 'activity' in dictionary.keys() and dictionary['accuracy'] > 0 and dictionary['accuracy'] < 1000:\n",
    "            for activity in dictionary['activity']:\n",
    "                data_new.append({\n",
    "                    'latitude':dictionary['latitudeE7'],\n",
    "                    'longitude':dictionary['longitudeE7'],\n",
    "                    'accuracy':dictionary['accuracy'],\n",
    "                    'type':activity['type'],\n",
    "                    'confidence':activity['confidence'],\n",
    "                    'day':dictionary['day'],\n",
    "                    'hour':dictionary['hour'],\n",
    "                    'day_of_week':dictionary['day_of_week'],\n",
    "                    'month':dictionary['month'],\n",
    "                    'year':dictionary['year'],\n",
    "                    'distance':dictionary['distance'],\n",
    "                    'speed':dictionary['speed'],\n",
    "                    'normalized_distance':dictionary['distance'] * activity['confidence']\n",
    "                })\n",
    "    return data_new\n",
    "\n",
    "city = {\n",
    "    'delhi':{\n",
    "        'latitude':28,\n",
    "        'longitude':78\n",
    "    },\n",
    "    'goa':{\n",
    "        'latitude':15,\n",
    "        'longitude':74\n",
    "    },\n",
    "    'jaipur':{\n",
    "        'latitude':27,\n",
    "        'longitude':75\n",
    "    },\n",
    "    'bangalore':{\n",
    "        'latitude':12,\n",
    "        'longitude':78\n",
    "    },\n",
    "    'trivandrum':{\n",
    "        'latitude':9,\n",
    "        'longitude':77\n",
    "    },\n",
    "}\n",
    "def get_city(latitude,longitude):\n",
    "    latitude = int(latitude)\n",
    "    longitude = int(longitude)\n",
    "    if latitude == 15:\n",
    "        return 'Goa'\n",
    "    elif latitude in [12,13]:\n",
    "        return 'Bangalore'\n",
    "    elif latitude == 8:\n",
    "        return 'Trivandrum'\n",
    "    elif latitude > 27.5 and latitude < 29:\n",
    "        return 'Delhi'\n",
    "    else:\n",
    "        return 'Other'"
   ]
  },
  {
   "cell_type": "code",
   "execution_count": 4,
   "metadata": {},
   "outputs": [],
   "source": [
    "data = get_data(data)\n",
    "data = get_new_data(data)\n",
    "data = pd.DataFrame(data)\n",
    "data = data[data.distance.notnull()]\n",
    "data['city'] = data.apply(lambda x: get_city(x['latitude'],x['longitude']),axis = 1)"
   ]
  },
  {
   "cell_type": "markdown",
   "metadata": {},
   "source": [
    "Let's pickle the file so that we can start directly without re-running the pre-processing steps every time we run the Jupyter Notebook"
   ]
  },
  {
   "cell_type": "code",
   "execution_count": 5,
   "metadata": {},
   "outputs": [],
   "source": [
    "import pickle\n",
    "pickle_out = open(\"data.sav\",\"wb\")\n",
    "pickle.dump(data, pickle_out)\n",
    "pickle_out.close()"
   ]
  },
  {
   "cell_type": "code",
   "execution_count": 6,
   "metadata": {},
   "outputs": [],
   "source": [
    "import pickle\n",
    "pickle_in = open(\"data.sav\",\"rb\")\n",
    "data = pickle.load(pickle_in)"
   ]
  },
  {
   "cell_type": "code",
   "execution_count": 7,
   "metadata": {
    "scrolled": false
   },
   "outputs": [
    {
     "data": {
      "text/html": [
       "<div>\n",
       "<style scoped>\n",
       "    .dataframe tbody tr th:only-of-type {\n",
       "        vertical-align: middle;\n",
       "    }\n",
       "\n",
       "    .dataframe tbody tr th {\n",
       "        vertical-align: top;\n",
       "    }\n",
       "\n",
       "    .dataframe thead th {\n",
       "        text-align: right;\n",
       "    }\n",
       "</style>\n",
       "<table border=\"1\" class=\"dataframe\">\n",
       "  <thead>\n",
       "    <tr style=\"text-align: right;\">\n",
       "      <th></th>\n",
       "      <th>accuracy</th>\n",
       "      <th>confidence</th>\n",
       "      <th>day</th>\n",
       "      <th>day_of_week</th>\n",
       "      <th>distance</th>\n",
       "      <th>hour</th>\n",
       "      <th>latitude</th>\n",
       "      <th>longitude</th>\n",
       "      <th>month</th>\n",
       "      <th>normalized_distance</th>\n",
       "      <th>speed</th>\n",
       "      <th>type</th>\n",
       "      <th>year</th>\n",
       "      <th>city</th>\n",
       "    </tr>\n",
       "  </thead>\n",
       "  <tbody>\n",
       "    <tr>\n",
       "      <th>0</th>\n",
       "      <td>30</td>\n",
       "      <td>0.006944</td>\n",
       "      <td>6</td>\n",
       "      <td>Mon</td>\n",
       "      <td>0.021401</td>\n",
       "      <td>23</td>\n",
       "      <td>12.918875</td>\n",
       "      <td>77.636750</td>\n",
       "      <td>Aug</td>\n",
       "      <td>0.000149</td>\n",
       "      <td>2.605845</td>\n",
       "      <td>UNKNOWN</td>\n",
       "      <td>2018</td>\n",
       "      <td>Bangalore</td>\n",
       "    </tr>\n",
       "    <tr>\n",
       "      <th>1</th>\n",
       "      <td>22</td>\n",
       "      <td>0.051282</td>\n",
       "      <td>30</td>\n",
       "      <td>Wed</td>\n",
       "      <td>0.215164</td>\n",
       "      <td>7</td>\n",
       "      <td>28.664906</td>\n",
       "      <td>77.329582</td>\n",
       "      <td>Aug</td>\n",
       "      <td>0.011034</td>\n",
       "      <td>6.774041</td>\n",
       "      <td>ON_BICYCLE</td>\n",
       "      <td>2017</td>\n",
       "      <td>Delhi</td>\n",
       "    </tr>\n",
       "    <tr>\n",
       "      <th>2</th>\n",
       "      <td>24</td>\n",
       "      <td>1.000000</td>\n",
       "      <td>10</td>\n",
       "      <td>Fri</td>\n",
       "      <td>0.009886</td>\n",
       "      <td>0</td>\n",
       "      <td>15.390639</td>\n",
       "      <td>73.880819</td>\n",
       "      <td>Feb</td>\n",
       "      <td>0.009886</td>\n",
       "      <td>1.253684</td>\n",
       "      <td>STILL</td>\n",
       "      <td>2017</td>\n",
       "      <td>Goa</td>\n",
       "    </tr>\n",
       "    <tr>\n",
       "      <th>3</th>\n",
       "      <td>27</td>\n",
       "      <td>0.017964</td>\n",
       "      <td>21</td>\n",
       "      <td>Thurs</td>\n",
       "      <td>0.006805</td>\n",
       "      <td>1</td>\n",
       "      <td>12.988329</td>\n",
       "      <td>77.703691</td>\n",
       "      <td>June</td>\n",
       "      <td>0.000122</td>\n",
       "      <td>1.426286</td>\n",
       "      <td>IN_RAIL_VEHICLE</td>\n",
       "      <td>2018</td>\n",
       "      <td>Bangalore</td>\n",
       "    </tr>\n",
       "    <tr>\n",
       "      <th>4</th>\n",
       "      <td>25</td>\n",
       "      <td>0.023810</td>\n",
       "      <td>1</td>\n",
       "      <td>Mon</td>\n",
       "      <td>0.002153</td>\n",
       "      <td>6</td>\n",
       "      <td>15.392327</td>\n",
       "      <td>73.878534</td>\n",
       "      <td>Jan</td>\n",
       "      <td>0.000051</td>\n",
       "      <td>0.242930</td>\n",
       "      <td>UNKNOWN</td>\n",
       "      <td>2018</td>\n",
       "      <td>Goa</td>\n",
       "    </tr>\n",
       "    <tr>\n",
       "      <th>5</th>\n",
       "      <td>26</td>\n",
       "      <td>0.031646</td>\n",
       "      <td>9</td>\n",
       "      <td>Mon</td>\n",
       "      <td>0.015326</td>\n",
       "      <td>19</td>\n",
       "      <td>8.536610</td>\n",
       "      <td>76.883273</td>\n",
       "      <td>April</td>\n",
       "      <td>0.000485</td>\n",
       "      <td>0.458944</td>\n",
       "      <td>IN_RAIL_VEHICLE</td>\n",
       "      <td>2018</td>\n",
       "      <td>Trivandrum</td>\n",
       "    </tr>\n",
       "    <tr>\n",
       "      <th>6</th>\n",
       "      <td>8</td>\n",
       "      <td>0.186567</td>\n",
       "      <td>16</td>\n",
       "      <td>Mon</td>\n",
       "      <td>11.794749</td>\n",
       "      <td>7</td>\n",
       "      <td>28.631098</td>\n",
       "      <td>77.216847</td>\n",
       "      <td>May</td>\n",
       "      <td>2.200513</td>\n",
       "      <td>13.241046</td>\n",
       "      <td>STILL</td>\n",
       "      <td>2016</td>\n",
       "      <td>Delhi</td>\n",
       "    </tr>\n",
       "    <tr>\n",
       "      <th>7</th>\n",
       "      <td>23</td>\n",
       "      <td>0.479381</td>\n",
       "      <td>6</td>\n",
       "      <td>Tues</td>\n",
       "      <td>0.001671</td>\n",
       "      <td>18</td>\n",
       "      <td>8.536639</td>\n",
       "      <td>76.883287</td>\n",
       "      <td>Feb</td>\n",
       "      <td>0.000801</td>\n",
       "      <td>0.027383</td>\n",
       "      <td>ON_FOOT</td>\n",
       "      <td>2018</td>\n",
       "      <td>Trivandrum</td>\n",
       "    </tr>\n",
       "    <tr>\n",
       "      <th>8</th>\n",
       "      <td>24</td>\n",
       "      <td>0.200000</td>\n",
       "      <td>18</td>\n",
       "      <td>Mon</td>\n",
       "      <td>0.432146</td>\n",
       "      <td>15</td>\n",
       "      <td>28.563853</td>\n",
       "      <td>77.323782</td>\n",
       "      <td>May</td>\n",
       "      <td>0.086429</td>\n",
       "      <td>2.554173</td>\n",
       "      <td>ON_FOOT</td>\n",
       "      <td>2015</td>\n",
       "      <td>Delhi</td>\n",
       "    </tr>\n",
       "    <tr>\n",
       "      <th>9</th>\n",
       "      <td>896</td>\n",
       "      <td>0.613861</td>\n",
       "      <td>22</td>\n",
       "      <td>Mon</td>\n",
       "      <td>0.000000</td>\n",
       "      <td>12</td>\n",
       "      <td>28.501832</td>\n",
       "      <td>77.471599</td>\n",
       "      <td>June</td>\n",
       "      <td>0.000000</td>\n",
       "      <td>0.000000</td>\n",
       "      <td>IN_VEHICLE</td>\n",
       "      <td>2015</td>\n",
       "      <td>Delhi</td>\n",
       "    </tr>\n",
       "  </tbody>\n",
       "</table>\n",
       "</div>"
      ],
      "text/plain": [
       "   accuracy  confidence  day day_of_week   distance  hour   latitude  \\\n",
       "0        30    0.006944    6         Mon   0.021401    23  12.918875   \n",
       "1        22    0.051282   30         Wed   0.215164     7  28.664906   \n",
       "2        24    1.000000   10         Fri   0.009886     0  15.390639   \n",
       "3        27    0.017964   21       Thurs   0.006805     1  12.988329   \n",
       "4        25    0.023810    1         Mon   0.002153     6  15.392327   \n",
       "5        26    0.031646    9         Mon   0.015326    19   8.536610   \n",
       "6         8    0.186567   16         Mon  11.794749     7  28.631098   \n",
       "7        23    0.479381    6        Tues   0.001671    18   8.536639   \n",
       "8        24    0.200000   18         Mon   0.432146    15  28.563853   \n",
       "9       896    0.613861   22         Mon   0.000000    12  28.501832   \n",
       "\n",
       "   longitude  month  normalized_distance      speed             type  year  \\\n",
       "0  77.636750    Aug             0.000149   2.605845          UNKNOWN  2018   \n",
       "1  77.329582    Aug             0.011034   6.774041       ON_BICYCLE  2017   \n",
       "2  73.880819    Feb             0.009886   1.253684            STILL  2017   \n",
       "3  77.703691   June             0.000122   1.426286  IN_RAIL_VEHICLE  2018   \n",
       "4  73.878534    Jan             0.000051   0.242930          UNKNOWN  2018   \n",
       "5  76.883273  April             0.000485   0.458944  IN_RAIL_VEHICLE  2018   \n",
       "6  77.216847    May             2.200513  13.241046            STILL  2016   \n",
       "7  76.883287    Feb             0.000801   0.027383          ON_FOOT  2018   \n",
       "8  77.323782    May             0.086429   2.554173          ON_FOOT  2015   \n",
       "9  77.471599   June             0.000000   0.000000       IN_VEHICLE  2015   \n",
       "\n",
       "         city  \n",
       "0   Bangalore  \n",
       "1       Delhi  \n",
       "2         Goa  \n",
       "3   Bangalore  \n",
       "4         Goa  \n",
       "5  Trivandrum  \n",
       "6       Delhi  \n",
       "7  Trivandrum  \n",
       "8       Delhi  \n",
       "9       Delhi  "
      ]
     },
     "execution_count": 7,
     "metadata": {},
     "output_type": "execute_result"
    }
   ],
   "source": [
    "data.sample(10).reset_index(drop = True)"
   ]
  },
  {
   "cell_type": "code",
   "execution_count": 8,
   "metadata": {
    "scrolled": true
   },
   "outputs": [
    {
     "name": "stdout",
     "output_type": "stream",
     "text": [
      "<class 'pandas.core.frame.DataFrame'>\n",
      "Int64Index: 1158736 entries, 0 to 1164662\n",
      "Data columns (total 14 columns):\n",
      "accuracy               1158736 non-null int64\n",
      "confidence             1158736 non-null float64\n",
      "day                    1158736 non-null int64\n",
      "day_of_week            1158736 non-null object\n",
      "distance               1158736 non-null float64\n",
      "hour                   1158736 non-null int64\n",
      "latitude               1158736 non-null float64\n",
      "longitude              1158736 non-null float64\n",
      "month                  1158736 non-null object\n",
      "normalized_distance    1158736 non-null float64\n",
      "speed                  1158736 non-null float64\n",
      "type                   1158736 non-null object\n",
      "year                   1158736 non-null int64\n",
      "city                   1158736 non-null object\n",
      "dtypes: float64(6), int64(4), object(4)\n",
      "memory usage: 132.6+ MB\n"
     ]
    }
   ],
   "source": [
    "data.info()"
   ]
  },
  {
   "cell_type": "code",
   "execution_count": 9,
   "metadata": {
    "scrolled": true
   },
   "outputs": [
    {
     "data": {
      "text/html": [
       "<div>\n",
       "<style scoped>\n",
       "    .dataframe tbody tr th:only-of-type {\n",
       "        vertical-align: middle;\n",
       "    }\n",
       "\n",
       "    .dataframe tbody tr th {\n",
       "        vertical-align: top;\n",
       "    }\n",
       "\n",
       "    .dataframe thead th {\n",
       "        text-align: right;\n",
       "    }\n",
       "</style>\n",
       "<table border=\"1\" class=\"dataframe\">\n",
       "  <thead>\n",
       "    <tr style=\"text-align: right;\">\n",
       "      <th></th>\n",
       "      <th>accuracy</th>\n",
       "      <th>confidence</th>\n",
       "      <th>day</th>\n",
       "      <th>distance</th>\n",
       "      <th>hour</th>\n",
       "      <th>latitude</th>\n",
       "      <th>longitude</th>\n",
       "      <th>normalized_distance</th>\n",
       "      <th>speed</th>\n",
       "      <th>year</th>\n",
       "    </tr>\n",
       "  </thead>\n",
       "  <tbody>\n",
       "    <tr>\n",
       "      <th>count</th>\n",
       "      <td>1.158736e+06</td>\n",
       "      <td>1.158736e+06</td>\n",
       "      <td>1.158736e+06</td>\n",
       "      <td>1.158736e+06</td>\n",
       "      <td>1.158736e+06</td>\n",
       "      <td>1.158736e+06</td>\n",
       "      <td>1.158736e+06</td>\n",
       "      <td>1.158736e+06</td>\n",
       "      <td>1.158736e+06</td>\n",
       "      <td>1.158736e+06</td>\n",
       "    </tr>\n",
       "    <tr>\n",
       "      <th>mean</th>\n",
       "      <td>9.774730e+01</td>\n",
       "      <td>4.060830e-01</td>\n",
       "      <td>1.620333e+01</td>\n",
       "      <td>1.156736e+01</td>\n",
       "      <td>1.325564e+01</td>\n",
       "      <td>1.780157e+01</td>\n",
       "      <td>7.645998e+01</td>\n",
       "      <td>4.051347e+00</td>\n",
       "      <td>1.397358e+01</td>\n",
       "      <td>2.016792e+03</td>\n",
       "    </tr>\n",
       "    <tr>\n",
       "      <th>std</th>\n",
       "      <td>1.959159e+02</td>\n",
       "      <td>4.154613e-01</td>\n",
       "      <td>8.933518e+00</td>\n",
       "      <td>1.344635e+02</td>\n",
       "      <td>6.585648e+00</td>\n",
       "      <td>7.993008e+00</td>\n",
       "      <td>1.632968e+00</td>\n",
       "      <td>6.658223e+01</td>\n",
       "      <td>8.472642e+02</td>\n",
       "      <td>1.314050e+00</td>\n",
       "    </tr>\n",
       "    <tr>\n",
       "      <th>min</th>\n",
       "      <td>2.000000e+00</td>\n",
       "      <td>0.000000e+00</td>\n",
       "      <td>1.000000e+00</td>\n",
       "      <td>0.000000e+00</td>\n",
       "      <td>0.000000e+00</td>\n",
       "      <td>8.186049e+00</td>\n",
       "      <td>7.287623e+01</td>\n",
       "      <td>0.000000e+00</td>\n",
       "      <td>0.000000e+00</td>\n",
       "      <td>2.013000e+03</td>\n",
       "    </tr>\n",
       "    <tr>\n",
       "      <th>25%</th>\n",
       "      <td>2.400000e+01</td>\n",
       "      <td>4.615385e-02</td>\n",
       "      <td>8.000000e+00</td>\n",
       "      <td>5.029102e-04</td>\n",
       "      <td>9.000000e+00</td>\n",
       "      <td>1.290783e+01</td>\n",
       "      <td>7.577735e+01</td>\n",
       "      <td>5.106686e-05</td>\n",
       "      <td>8.847484e-03</td>\n",
       "      <td>2.016000e+03</td>\n",
       "    </tr>\n",
       "    <tr>\n",
       "      <th>50%</th>\n",
       "      <td>2.900000e+01</td>\n",
       "      <td>1.735537e-01</td>\n",
       "      <td>1.600000e+01</td>\n",
       "      <td>5.275423e-03</td>\n",
       "      <td>1.400000e+01</td>\n",
       "      <td>1.539144e+01</td>\n",
       "      <td>7.725915e+01</td>\n",
       "      <td>7.531244e-04</td>\n",
       "      <td>1.330105e-01</td>\n",
       "      <td>2.017000e+03</td>\n",
       "    </tr>\n",
       "    <tr>\n",
       "      <th>75%</th>\n",
       "      <td>5.100000e+01</td>\n",
       "      <td>1.000000e+00</td>\n",
       "      <td>2.400000e+01</td>\n",
       "      <td>2.562420e-02</td>\n",
       "      <td>1.900000e+01</td>\n",
       "      <td>2.866400e+01</td>\n",
       "      <td>7.732973e+01</td>\n",
       "      <td>6.329337e-03</td>\n",
       "      <td>8.119613e-01</td>\n",
       "      <td>2.018000e+03</td>\n",
       "    </tr>\n",
       "    <tr>\n",
       "      <th>max</th>\n",
       "      <td>9.990000e+02</td>\n",
       "      <td>1.000000e+00</td>\n",
       "      <td>3.100000e+01</td>\n",
       "      <td>2.470867e+03</td>\n",
       "      <td>2.300000e+01</td>\n",
       "      <td>3.069011e+01</td>\n",
       "      <td>8.733699e+01</td>\n",
       "      <td>2.470867e+03</td>\n",
       "      <td>3.537540e+05</td>\n",
       "      <td>2.018000e+03</td>\n",
       "    </tr>\n",
       "  </tbody>\n",
       "</table>\n",
       "</div>"
      ],
      "text/plain": [
       "           accuracy    confidence           day      distance          hour  \\\n",
       "count  1.158736e+06  1.158736e+06  1.158736e+06  1.158736e+06  1.158736e+06   \n",
       "mean   9.774730e+01  4.060830e-01  1.620333e+01  1.156736e+01  1.325564e+01   \n",
       "std    1.959159e+02  4.154613e-01  8.933518e+00  1.344635e+02  6.585648e+00   \n",
       "min    2.000000e+00  0.000000e+00  1.000000e+00  0.000000e+00  0.000000e+00   \n",
       "25%    2.400000e+01  4.615385e-02  8.000000e+00  5.029102e-04  9.000000e+00   \n",
       "50%    2.900000e+01  1.735537e-01  1.600000e+01  5.275423e-03  1.400000e+01   \n",
       "75%    5.100000e+01  1.000000e+00  2.400000e+01  2.562420e-02  1.900000e+01   \n",
       "max    9.990000e+02  1.000000e+00  3.100000e+01  2.470867e+03  2.300000e+01   \n",
       "\n",
       "           latitude     longitude  normalized_distance         speed  \\\n",
       "count  1.158736e+06  1.158736e+06         1.158736e+06  1.158736e+06   \n",
       "mean   1.780157e+01  7.645998e+01         4.051347e+00  1.397358e+01   \n",
       "std    7.993008e+00  1.632968e+00         6.658223e+01  8.472642e+02   \n",
       "min    8.186049e+00  7.287623e+01         0.000000e+00  0.000000e+00   \n",
       "25%    1.290783e+01  7.577735e+01         5.106686e-05  8.847484e-03   \n",
       "50%    1.539144e+01  7.725915e+01         7.531244e-04  1.330105e-01   \n",
       "75%    2.866400e+01  7.732973e+01         6.329337e-03  8.119613e-01   \n",
       "max    3.069011e+01  8.733699e+01         2.470867e+03  3.537540e+05   \n",
       "\n",
       "               year  \n",
       "count  1.158736e+06  \n",
       "mean   2.016792e+03  \n",
       "std    1.314050e+00  \n",
       "min    2.013000e+03  \n",
       "25%    2.016000e+03  \n",
       "50%    2.017000e+03  \n",
       "75%    2.018000e+03  \n",
       "max    2.018000e+03  "
      ]
     },
     "execution_count": 9,
     "metadata": {},
     "output_type": "execute_result"
    }
   ],
   "source": [
    "data.describe()"
   ]
  },
  {
   "cell_type": "code",
   "execution_count": 10,
   "metadata": {
    "scrolled": true
   },
   "outputs": [
    {
     "data": {
      "image/png": "[encoded data removed]",
      "text/plain": [
       "<Figure size 432x288 with 1 Axes>"
      ]
     },
     "metadata": {},
     "output_type": "display_data"
    }
   ],
   "source": [
    "sns.distplot(data.normalized_distance)\n",
    "plt.savefig('fig_normalized_distance.png', dpi = 300)\n",
    "plt.show()"
   ]
  },
  {
   "cell_type": "code",
   "execution_count": 11,
   "metadata": {},
   "outputs": [],
   "source": [
    "values = data.normalized_distance.values\n",
    "blocks = ['0_0.01','0.001-0.1','0.1-0.5','0.5-1','1-2','2-5','5-10','10-20','20-50','50-100','100+']\n",
    "block_values = [0,0,0,0,0,0,0,0,0,0,0]\n",
    "\n",
    "for value in values:\n",
    "    if value > 0 and value < 0.01:\n",
    "        block_values[0] += 1\n",
    "    if value > 0 and value < 0.1:\n",
    "        block_values[1] += 1\n",
    "    if value > 0.1 and value < 0.5:\n",
    "        block_values[2] += 1\n",
    "    elif value > 0.5 and value < 1:\n",
    "        block_values[3] += 1\n",
    "    elif value > 1 and value < 2:\n",
    "        block_values[4] += 1\n",
    "    elif value > 2 and value < 5:\n",
    "        block_values[5] += 1\n",
    "    elif value > 5 and value < 10:\n",
    "        block_values[6] += 1\n",
    "    elif value > 10 and value < 20:\n",
    "        block_values[7] += 1\n",
    "    elif value > 20 and value < 50:\n",
    "        block_values[8] += 1\n",
    "    elif value > 50 and value < 100:\n",
    "        block_values[9] += 1\n",
    "    elif value > 100:\n",
    "        block_values[10] += 1"
   ]
  },
  {
   "cell_type": "code",
   "execution_count": 12,
   "metadata": {},
   "outputs": [
    {
     "data": {
      "image/png": "[encoded data removed]",
      "text/plain": [
       "<Figure size 432x288 with 1 Axes>"
      ]
     },
     "metadata": {},
     "output_type": "display_data"
    }
   ],
   "source": [
    "sns.barplot(x = blocks,y = block_values)\n",
    "plt.savefig('fig_bar_chart.png', dpi = 300)\n",
    "plt.show()"
   ]
  },
  {
   "cell_type": "code",
   "execution_count": 13,
   "metadata": {},
   "outputs": [],
   "source": [
    "data_low = data[data.normalized_distance < 5]\n",
    "data_large = data[data.normalized_distance > 5]"
   ]
  },
  {
   "cell_type": "code",
   "execution_count": 14,
   "metadata": {},
   "outputs": [
    {
     "data": {
      "image/png": "[encoded data removed]",
      "text/plain": [
       "<Figure size 432x288 with 1 Axes>"
      ]
     },
     "metadata": {},
     "output_type": "display_data"
    }
   ],
   "source": [
    "sns.distplot(data_large.normalized_distance)\n",
    "plt.show()"
   ]
  },
  {
   "cell_type": "code",
   "execution_count": 15,
   "metadata": {},
   "outputs": [
    {
     "data": {
      "image/png": "[encoded data removed]",
      "text/plain": [
       "<Figure size 432x288 with 1 Axes>"
      ]
     },
     "metadata": {},
     "output_type": "display_data"
    }
   ],
   "source": [
    "sns.distplot(data_low.normalized_distance)\n",
    "plt.show()"
   ]
  },
  {
   "cell_type": "markdown",
   "metadata": {},
   "source": [
    "# Geography"
   ]
  },
  {
   "cell_type": "code",
   "execution_count": 16,
   "metadata": {},
   "outputs": [
    {
     "data": {
      "image/png": "[encoded data removed]",
      "text/plain": [
       "<Figure size 432x288 with 1 Axes>"
      ]
     },
     "metadata": {},
     "output_type": "display_data"
    }
   ],
   "source": [
    "temp = data_low[['city','normalized_distance']]\n",
    "temp = temp.groupby(['city']).sum().reset_index()\n",
    "sns.barplot(x=\"city\", y=\"normalized_distance\",data=temp)\n",
    "plt.savefig('city_wise_distance.png', dpi = 300)\n",
    "plt.show()"
   ]
  },
  {
   "cell_type": "code",
   "execution_count": 17,
   "metadata": {
    "scrolled": true
   },
   "outputs": [
    {
     "data": {
      "image/png": "[encoded data removed]",
      "text/plain": [
       "<Figure size 432x288 with 1 Axes>"
      ]
     },
     "metadata": {},
     "output_type": "display_data"
    }
   ],
   "source": [
    "temp = data_low[['city','year','normalized_distance']]\n",
    "temp = temp.groupby(['city','year']).sum().reset_index()\n",
    "sns.barplot(x=\"city\", y=\"normalized_distance\",hue='year',data=temp)\n",
    "plt.savefig('city_year_wise_distance.png', dpi = 300)\n",
    "plt.show()"
   ]
  },
  {
   "cell_type": "markdown",
   "metadata": {},
   "source": [
    "# Day of week vs distance normalized"
   ]
  },
  {
   "cell_type": "code",
   "execution_count": 18,
   "metadata": {
    "scrolled": true
   },
   "outputs": [
    {
     "data": {
      "text/html": [
       "<div>\n",
       "<style scoped>\n",
       "    .dataframe tbody tr th:only-of-type {\n",
       "        vertical-align: middle;\n",
       "    }\n",
       "\n",
       "    .dataframe tbody tr th {\n",
       "        vertical-align: top;\n",
       "    }\n",
       "\n",
       "    .dataframe thead th {\n",
       "        text-align: right;\n",
       "    }\n",
       "</style>\n",
       "<table border=\"1\" class=\"dataframe\">\n",
       "  <thead>\n",
       "    <tr style=\"text-align: right;\">\n",
       "      <th></th>\n",
       "      <th>accuracy</th>\n",
       "      <th>confidence</th>\n",
       "      <th>day</th>\n",
       "      <th>day_of_week</th>\n",
       "      <th>distance</th>\n",
       "      <th>hour</th>\n",
       "      <th>latitude</th>\n",
       "      <th>longitude</th>\n",
       "      <th>month</th>\n",
       "      <th>normalized_distance</th>\n",
       "      <th>speed</th>\n",
       "      <th>type</th>\n",
       "      <th>year</th>\n",
       "      <th>city</th>\n",
       "    </tr>\n",
       "  </thead>\n",
       "  <tbody>\n",
       "    <tr>\n",
       "      <th>148139</th>\n",
       "      <td>39</td>\n",
       "      <td>0.920000</td>\n",
       "      <td>31</td>\n",
       "      <td>Fri</td>\n",
       "      <td>0.018717</td>\n",
       "      <td>19</td>\n",
       "      <td>28.551520</td>\n",
       "      <td>77.086320</td>\n",
       "      <td>July</td>\n",
       "      <td>0.017219</td>\n",
       "      <td>1.113839</td>\n",
       "      <td>IN_VEHICLE</td>\n",
       "      <td>2015</td>\n",
       "      <td>Delhi</td>\n",
       "    </tr>\n",
       "    <tr>\n",
       "      <th>306522</th>\n",
       "      <td>25</td>\n",
       "      <td>1.000000</td>\n",
       "      <td>9</td>\n",
       "      <td>Wed</td>\n",
       "      <td>0.002432</td>\n",
       "      <td>7</td>\n",
       "      <td>15.391546</td>\n",
       "      <td>73.877116</td>\n",
       "      <td>March</td>\n",
       "      <td>0.002432</td>\n",
       "      <td>0.004835</td>\n",
       "      <td>STILL</td>\n",
       "      <td>2016</td>\n",
       "      <td>Goa</td>\n",
       "    </tr>\n",
       "    <tr>\n",
       "      <th>303039</th>\n",
       "      <td>73</td>\n",
       "      <td>1.000000</td>\n",
       "      <td>4</td>\n",
       "      <td>Fri</td>\n",
       "      <td>0.008366</td>\n",
       "      <td>6</td>\n",
       "      <td>28.664152</td>\n",
       "      <td>77.327289</td>\n",
       "      <td>March</td>\n",
       "      <td>0.008366</td>\n",
       "      <td>0.013936</td>\n",
       "      <td>STILL</td>\n",
       "      <td>2016</td>\n",
       "      <td>Delhi</td>\n",
       "    </tr>\n",
       "    <tr>\n",
       "      <th>988130</th>\n",
       "      <td>25</td>\n",
       "      <td>0.122449</td>\n",
       "      <td>1</td>\n",
       "      <td>Sun</td>\n",
       "      <td>0.000329</td>\n",
       "      <td>17</td>\n",
       "      <td>12.905112</td>\n",
       "      <td>77.646890</td>\n",
       "      <td>July</td>\n",
       "      <td>0.000040</td>\n",
       "      <td>0.009879</td>\n",
       "      <td>IN_RAIL_VEHICLE</td>\n",
       "      <td>2018</td>\n",
       "      <td>Bangalore</td>\n",
       "    </tr>\n",
       "    <tr>\n",
       "      <th>284395</th>\n",
       "      <td>35</td>\n",
       "      <td>0.180000</td>\n",
       "      <td>29</td>\n",
       "      <td>Fri</td>\n",
       "      <td>0.006200</td>\n",
       "      <td>19</td>\n",
       "      <td>15.393013</td>\n",
       "      <td>73.879708</td>\n",
       "      <td>Jan</td>\n",
       "      <td>0.001116</td>\n",
       "      <td>0.178213</td>\n",
       "      <td>IN_VEHICLE</td>\n",
       "      <td>2016</td>\n",
       "      <td>Goa</td>\n",
       "    </tr>\n",
       "  </tbody>\n",
       "</table>\n",
       "</div>"
      ],
      "text/plain": [
       "        accuracy  confidence  day day_of_week  distance  hour   latitude  \\\n",
       "148139        39    0.920000   31         Fri  0.018717    19  28.551520   \n",
       "306522        25    1.000000    9         Wed  0.002432     7  15.391546   \n",
       "303039        73    1.000000    4         Fri  0.008366     6  28.664152   \n",
       "988130        25    0.122449    1         Sun  0.000329    17  12.905112   \n",
       "284395        35    0.180000   29         Fri  0.006200    19  15.393013   \n",
       "\n",
       "        longitude  month  normalized_distance     speed             type  \\\n",
       "148139  77.086320   July             0.017219  1.113839       IN_VEHICLE   \n",
       "306522  73.877116  March             0.002432  0.004835            STILL   \n",
       "303039  77.327289  March             0.008366  0.013936            STILL   \n",
       "988130  77.646890   July             0.000040  0.009879  IN_RAIL_VEHICLE   \n",
       "284395  73.879708    Jan             0.001116  0.178213       IN_VEHICLE   \n",
       "\n",
       "        year       city  \n",
       "148139  2015      Delhi  \n",
       "306522  2016        Goa  \n",
       "303039  2016      Delhi  \n",
       "988130  2018  Bangalore  \n",
       "284395  2016        Goa  "
      ]
     },
     "execution_count": 18,
     "metadata": {},
     "output_type": "execute_result"
    }
   ],
   "source": [
    "data_low.sample(5)"
   ]
  },
  {
   "cell_type": "code",
   "execution_count": 19,
   "metadata": {
    "scrolled": true
   },
   "outputs": [
    {
     "data": {
      "image/png": "[encoded data removed]",
      "text/plain": [
       "<Figure size 432x288 with 1 Axes>"
      ]
     },
     "metadata": {},
     "output_type": "display_data"
    }
   ],
   "source": [
    "temp = data_low[['day_of_week','normalized_distance','year']].groupby(['day_of_week','year']).sum().reset_index()\n",
    "index = [5,1,6,7,4,2,3]\n",
    "indexes = list()\n",
    "for i in range(len(index)):\n",
    "    for j in range(6):\n",
    "        indexes.append(index[i])\n",
    "temp.index = indexes\n",
    "temp.sort_index(inplace=True)\n",
    "sns.barplot(x=\"day_of_week\", y=\"normalized_distance\",hue='year',data=temp)\n",
    "plt.savefig('fig2.png', dpi = 300)\n",
    "plt.show()"
   ]
  },
  {
   "cell_type": "markdown",
   "metadata": {},
   "source": [
    "# Year vs Distance Normalized"
   ]
  },
  {
   "cell_type": "code",
   "execution_count": 20,
   "metadata": {},
   "outputs": [
    {
     "data": {
      "image/png": "[encoded data removed]",
      "text/plain": [
       "<Figure size 432x288 with 1 Axes>"
      ]
     },
     "metadata": {},
     "output_type": "display_data"
    }
   ],
   "source": [
    "temp = data_low[['year','normalized_distance']].groupby(['year']).sum().reset_index()\n",
    "sns.barplot(x=\"year\", y=\"normalized_distance\",data=temp)\n",
    "plt.show()"
   ]
  },
  {
   "cell_type": "markdown",
   "metadata": {},
   "source": [
    "# Year vs Distance Normalized"
   ]
  },
  {
   "cell_type": "code",
   "execution_count": 21,
   "metadata": {},
   "outputs": [
    {
     "data": {
      "image/png": "[encoded data removed]",
      "text/plain": [
       "<Figure size 432x288 with 1 Axes>"
      ]
     },
     "metadata": {},
     "output_type": "display_data"
    }
   ],
   "source": [
    "temp = data_large[['year','normalized_distance']].groupby(['year']).sum().reset_index()\n",
    "data_large.sort_values(by = ['normalized_distance'],ascending=False)\n",
    "sns.barplot(x=\"year\", y=\"normalized_distance\",data=temp)\n",
    "plt.show()"
   ]
  },
  {
   "cell_type": "markdown",
   "metadata": {},
   "source": [
    "# Type vs Distance Normalized"
   ]
  },
  {
   "cell_type": "code",
   "execution_count": 22,
   "metadata": {},
   "outputs": [],
   "source": [
    "mapping_function = {\n",
    "    'TILTING':'others',\n",
    "    'STILL':'others',\n",
    "    'UNKNOWN':'others',\n",
    "    'IN_VEHICLE':'vehicle',\n",
    "    'IN_ROAD_VEHICLE':'vehicle',\n",
    "    'IN_RAIL_VEHICLE':'vehicle',\n",
    "    'IN_FOUR_WHEELER_VEHICLE':'vehicle',\n",
    "    'EXITING_VEHICLE':'vehicle',\n",
    "    'IN_TWO_WHEELER_VEHICLE':'vehicle',\n",
    "    'ON_FOOT':'walk',\n",
    "    'WALKING':'walk',\n",
    "    'ON_BICYCLE':'walk',\n",
    "    'RUNNING':'walk',\n",
    "}\n",
    "def travel_pattern(city_name):\n",
    "    temp = data_low[data_low.city == city_name]\n",
    "    temp = temp[['day_of_week','type','normalized_distance']]\n",
    "    temp.type = temp.type.map(mapping_function)\n",
    "    temp = temp.groupby(['day_of_week','type']).sum().reset_index(drop = False)\n",
    "    temp = temp[temp.type.isin(['vehicle','walk'])]\n",
    "    temp.index = [5,5,1,1,6,6,7,7,4,4,2,2,3,3]\n",
    "    temp = temp.sort_index().reset_index(drop = True)\n",
    "    sns.barplot(x='day_of_week', y='normalized_distance',hue='type',data = temp)\n",
    "    plt.title('Travel Pattern in ' + city_name)\n",
    "    plt.savefig(city_name + '.png', dpi = 300)\n",
    "    plt.show()\n",
    "    return "
   ]
  },
  {
   "cell_type": "code",
   "execution_count": 23,
   "metadata": {
    "scrolled": true
   },
   "outputs": [
    {
     "data": {
      "image/png": "[encoded data removed]",
      "text/plain": [
       "<Figure size 432x288 with 1 Axes>"
      ]
     },
     "metadata": {},
     "output_type": "display_data"
    }
   ],
   "source": [
    "travel_pattern('Bangalore')"
   ]
  },
  {
   "cell_type": "markdown",
   "metadata": {},
   "source": [
    "# Bangalore"
   ]
  },
  {
   "cell_type": "code",
   "execution_count": 24,
   "metadata": {},
   "outputs": [
    {
     "data": {
      "image/png": "[encoded data removed]",
      "text/plain": [
       "<Figure size 432x288 with 1 Axes>"
      ]
     },
     "metadata": {},
     "output_type": "display_data"
    }
   ],
   "source": [
    "temp = data_low[data_low.city == 'Bangalore']\n",
    "temp = temp[temp.year == 2018]\n",
    "temp = temp[temp.month != 'Jan']\n",
    "temp.type = temp.type.map(mapping_function)\n",
    "temp = temp[['month','normalized_distance','type']]\n",
    "temp = temp.groupby(['month','type']).sum().reset_index(drop = False)\n",
    "temp = temp[temp.type != 'others']\n",
    "temp\n",
    "index = [8,7,6,10,9]\n",
    "indexes = list()\n",
    "for i in range(len(index)):\n",
    "    for j in range(2):\n",
    "        indexes.append(index[i])\n",
    "temp.index = indexes\n",
    "temp.sort_index(inplace = True)\n",
    "sns.barplot(x=\"month\", y=\"normalized_distance\",hue='type',data=temp)\n",
    "plt.title('Travel patterns in Bangalore')\n",
    "plt.savefig('Travel patterns in Bangalore.png', dpi = 300)\n",
    "plt.show()"
   ]
  },
  {
   "cell_type": "markdown",
   "metadata": {},
   "source": [
    "# Trivandrum"
   ]
  },
  {
   "cell_type": "code",
   "execution_count": 25,
   "metadata": {},
   "outputs": [
    {
     "data": {
      "image/png": "[encoded data removed]",
      "text/plain": [
       "<Figure size 432x288 with 1 Axes>"
      ]
     },
     "metadata": {},
     "output_type": "display_data"
    }
   ],
   "source": [
    "temp = data_low[data_low.city == 'Trivandrum']\n",
    "temp = temp[temp.year == 2018]\n",
    "temp.type = temp.type.map(mapping_function)\n",
    "temp = temp[['month','normalized_distance','type']]\n",
    "temp = temp.groupby(['month','type']).sum().reset_index(drop = False)\n",
    "temp = temp[temp.type != 'others']\n",
    "index = [4,2,1,6,3,5]\n",
    "indexes = list()\n",
    "for i in range(len(index)):\n",
    "    for j in range(2):\n",
    "        indexes.append(index[i])\n",
    "temp.index = indexes\n",
    "temp.sort_index(inplace = True)\n",
    "sns.barplot(x=\"month\", y=\"normalized_distance\",hue='type',data=temp)\n",
    "plt.title('Travel patterns in Trivandrum')\n",
    "plt.savefig('Travel patterns in Trivandrum.png', dpi = 300)\n",
    "plt.show()"
   ]
  },
  {
   "cell_type": "markdown",
   "metadata": {},
   "source": [
    "# Bangalore vs Trivandrum"
   ]
  },
  {
   "cell_type": "code",
   "execution_count": 26,
   "metadata": {},
   "outputs": [],
   "source": [
    "def day_type_mapping(day):\n",
    "    if day in ['Sat','Sun']:\n",
    "        return 'Weekend'\n",
    "    return 'Weekday'"
   ]
  },
  {
   "cell_type": "code",
   "execution_count": 27,
   "metadata": {},
   "outputs": [
    {
     "data": {
      "image/png": "[encoded data removed]",
      "text/plain": [
       "<Figure size 432x288 with 1 Axes>"
      ]
     },
     "metadata": {},
     "output_type": "display_data"
    }
   ],
   "source": [
    "temp = data_low[data_low.city.isin(['Bangalore','Trivandrum'])]\n",
    "temp = temp[['day_of_week','type','normalized_distance','city']]\n",
    "temp.type = temp.type.map(mapping_function)\n",
    "temp = temp[temp.type == 'walk']\n",
    "temp = temp[['day_of_week','normalized_distance','city']]\n",
    "temp = temp.groupby(['day_of_week','city']).sum().reset_index()\n",
    "mean_bangalore = temp['normalized_distance'][temp.city == 'Bangalore'].sum()\n",
    "mean_trivandrum = temp['normalized_distance'][temp.city == 'Trivandrum'].sum()\n",
    "temp['normalized_distance'][temp.city == 'Bangalore'] = temp['normalized_distance'] / mean_bangalore\n",
    "temp['normalized_distance'][temp.city == 'Trivandrum'] = temp['normalized_distance'] / mean_trivandrum\n",
    "temp.sort_values(by = ['day_of_week'],inplace = True)\n",
    "temp.index = [5,5,1,1,6,6,7,7,4,4,2,2,3,3]\n",
    "temp.sort_index(inplace = True)\n",
    "sns.barplot(x=\"day_of_week\", y=\"normalized_distance\",hue='city',data=temp)\n",
    "plt.title('Walk pattern')\n",
    "plt.savefig('Walk.png', dpi = 300)\n",
    "plt.show()"
   ]
  },
  {
   "cell_type": "code",
   "execution_count": 28,
   "metadata": {},
   "outputs": [
    {
     "data": {
      "image/png": "[encoded data removed]",
      "text/plain": [
       "<Figure size 432x288 with 1 Axes>"
      ]
     },
     "metadata": {},
     "output_type": "display_data"
    }
   ],
   "source": [
    "temp = data_low[data_low.city.isin(['Bangalore','Trivandrum'])]\n",
    "temp = temp[['day_of_week','type','normalized_distance','city']]\n",
    "temp.type = temp.type.map(mapping_function)\n",
    "temp = temp[temp.type == 'vehicle']\n",
    "temp = temp[['day_of_week','normalized_distance','city']]\n",
    "temp = temp.groupby(['day_of_week','city']).sum().reset_index()\n",
    "mean_bangalore = temp['normalized_distance'][temp.city == 'Bangalore'].sum()\n",
    "mean_trivandrum = temp['normalized_distance'][temp.city == 'Trivandrum'].sum()\n",
    "temp['normalized_distance'][temp.city == 'Bangalore'] = temp['normalized_distance'] / mean_bangalore\n",
    "temp['normalized_distance'][temp.city == 'Trivandrum'] = temp['normalized_distance'] / mean_trivandrum\n",
    "temp.sort_values(by = ['day_of_week'],inplace = True)\n",
    "temp.index = [5,5,1,1,6,6,7,7,4,4,2,2,3,3]\n",
    "temp.sort_index(inplace = True)\n",
    "sns.barplot(x=\"day_of_week\", y=\"normalized_distance\",hue='city',data=temp)\n",
    "plt.title('Vehicle pattern')\n",
    "plt.savefig('Vehicle.png', dpi = 300)\n",
    "plt.show()"
   ]
  },
  {
   "cell_type": "markdown",
   "metadata": {},
   "source": [
    "# type vs Hour"
   ]
  },
  {
   "cell_type": "code",
   "execution_count": 29,
   "metadata": {},
   "outputs": [],
   "source": [
    "def get_time_blocks(time):\n",
    "    if time < 5:\n",
    "        return '0-5'\n",
    "    elif time > 5 and time < 7:\n",
    "        return '5-7'\n",
    "    elif time > 7 and time < 10:\n",
    "        return '7-10'\n",
    "    elif time > 10 and time < 16:\n",
    "        return '10-16'\n",
    "    elif time > 16 and time < 20:\n",
    "        return '16-20'\n",
    "    else:\n",
    "        return '20-24'"
   ]
  },
  {
   "cell_type": "code",
   "execution_count": 30,
   "metadata": {},
   "outputs": [],
   "source": [
    "def time_vs_hour(city):\n",
    "    temp = data_low[data_low.city == city]\n",
    "    temp = temp[['hour','type','normalized_distance']]\n",
    "    temp.type = temp.type.map(mapping_function)\n",
    "    temp.hour = temp.hour.apply(lambda x: get_time_blocks(x))\n",
    "    temp = temp.groupby(['hour','type']).sum().reset_index(drop = False)\n",
    "    temp = temp[temp.type != 'others']\n",
    "    temp.index = [1,1,4,4,5,5,6,6,2,2,3,3]\n",
    "    temp.sort_index(inplace = True)\n",
    "    temp = temp[temp.type != 'others']\n",
    "    sns.barplot(x=\"hour\", y=\"normalized_distance\",hue='type',data=temp)\n",
    "    plt.title(city + ' travel pattern')\n",
    "    plt.savefig(city + '_travel_pattern.png', dpi = 300)\n",
    "    plt.show()"
   ]
  },
  {
   "cell_type": "code",
   "execution_count": 31,
   "metadata": {},
   "outputs": [
    {
     "data": {
      "image/png": "[encoded data removed]",
      "text/plain": [
       "<Figure size 432x288 with 1 Axes>"
      ]
     },
     "metadata": {},
     "output_type": "display_data"
    }
   ],
   "source": [
    "time_vs_hour('Bangalore')"
   ]
  },
  {
   "cell_type": "code",
   "execution_count": 32,
   "metadata": {},
   "outputs": [
    {
     "data": {
      "image/png": "[encoded data removed]",
      "text/plain": [
       "<Figure size 432x288 with 1 Axes>"
      ]
     },
     "metadata": {},
     "output_type": "display_data"
    }
   ],
   "source": [
    "time_vs_hour('Trivandrum')"
   ]
  },
  {
   "cell_type": "code",
   "execution_count": 33,
   "metadata": {},
   "outputs": [],
   "source": [
    "def city_vs_hour(typ,title):\n",
    "    temp = data_low[data_low.city.isin(['Bangalore','Trivandrum'])]\n",
    "    temp.type = temp.type.map(mapping_function)\n",
    "    temp = temp[temp.type == typ]\n",
    "    temp = temp[['hour','city','normalized_distance']]\n",
    "    temp.hour = temp.hour.apply(lambda x: get_time_blocks(x))\n",
    "    temp = temp.groupby(['hour','city']).sum().reset_index(drop = False)\n",
    "    temp.index = [1,1,4,4,5,5,6,6,2,2,3,3]\n",
    "    temp.sort_index(inplace = True)\n",
    "    sns.barplot(x=\"hour\", y=\"normalized_distance\",hue='city',data=temp)\n",
    "    plt.title(title)\n",
    "    plt.savefig(title +'.png', dpi = 300)\n",
    "    plt.show()"
   ]
  },
  {
   "cell_type": "code",
   "execution_count": 34,
   "metadata": {},
   "outputs": [
    {
     "data": {
      "image/png": "[encoded data removed]",
      "text/plain": [
       "<Figure size 432x288 with 1 Axes>"
      ]
     },
     "metadata": {},
     "output_type": "display_data"
    }
   ],
   "source": [
    "city_vs_hour('vehicle',title = 'Vehicle Usage Pattern')"
   ]
  },
  {
   "cell_type": "code",
   "execution_count": 35,
   "metadata": {},
   "outputs": [
    {
     "data": {
      "image/png": "[encoded data removed]",
      "text/plain": [
       "<Figure size 432x288 with 1 Axes>"
      ]
     },
     "metadata": {},
     "output_type": "display_data"
    }
   ],
   "source": [
    "city_vs_hour('walk',title = 'Walking Patterns')"
   ]
  }
 ],
 "metadata": {
  "kernelspec": {
   "display_name": "Python 3",
   "language": "python",
   "name": "python3"
  },
  "language_info": {
   "codemirror_mode": {
    "name": "ipython",
    "version": 3
   },
   "file_extension": ".py",
   "mimetype": "text/x-python",
   "name": "python",
   "nbconvert_exporter": "python",
   "pygments_lexer": "ipython3",
   "version": "3.6.5"
  }
 },
 "nbformat": 4,
 "nbformat_minor": 2
}
