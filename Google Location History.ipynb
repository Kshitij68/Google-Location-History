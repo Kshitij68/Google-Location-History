{
 "cells": [
  {
   "cell_type": "markdown",
   "metadata": {},
   "source": [
    "# Importing Libraries"
   ]
  },
  {
   "cell_type": "code",
   "execution_count": 14,
   "metadata": {},
   "outputs": [],
   "source": [
    "import json\n",
    "import time\n",
    "import datetime\n",
    "import numpy as np\n",
    "import pandas as pd\n",
    "import matplotlib.pyplot as plt\n",
    "import seaborn as sns\n",
    "import warnings\n",
    "from geopy.distance import vincenty\n",
    "from matplotlib.collections import PatchCollection\n",
    "from IPython.display import Image\n",
    "warnings.filterwarnings('ignore')"
   ]
  },
  {
   "cell_type": "markdown",
   "metadata": {},
   "source": [
    "# Importing the JSON file"
   ]
  },
  {
   "cell_type": "code",
   "execution_count": 15,
   "metadata": {},
   "outputs": [],
   "source": [
    "with open('Location History.json', 'r') as fh:\n",
    "    data = json.loads(fh.read())\n",
    "data = data['locations']"
   ]
  },
  {
   "cell_type": "markdown",
   "metadata": {},
   "source": [
    "# Data-Preprocessing"
   ]
  },
  {
   "cell_type": "code",
   "execution_count": 16,
   "metadata": {},
   "outputs": [],
   "source": [
    "def get_normalized_activities(activities):\n",
    "    data = list()\n",
    "    for activity in activities:\n",
    "        temp = list()\n",
    "        for act in activity['activity']:\n",
    "            temp.append(act)\n",
    "        total = sum([value['confidence'] for value in temp])\n",
    "        temp = [{'type':value['type'],'confidence':value['confidence']/total} for value in temp]\n",
    "        data += temp\n",
    "    return data\n",
    "\n",
    "def get_date(time):\n",
    "    day = time.day\n",
    "    hour = time.hour\n",
    "\n",
    "    day_of_week = time.weekday()\n",
    "    day_of_week_index = [0,1,2,3,4,5,6]\n",
    "    day_of_week_name = ['Mon','Tues','Wed','Thurs','Fri','Sat','Sun']\n",
    "    index = day_of_week_index.index(day_of_week)\n",
    "    day_of_week = day_of_week_name[index]\n",
    "\n",
    "    year = time.year\n",
    "\n",
    "    month = time.month\n",
    "    month_index = [1,2,3,4,5,6,7,8,9,10,11,12]\n",
    "    month_name = ['Jan','Feb','March','April','May','June','July','Aug','Sep','Oct','Nov','Dec']\n",
    "    index = month_index.index(month)\n",
    "    month = month_name[index]\n",
    "    \n",
    "    return {'day':day, 'hour':hour,'day_of_week':day_of_week, 'month':month, 'year':year}\n",
    "\n",
    "def remove_wrong_data(data):\n",
    "    degrees_to_radians = np.pi/180.0\n",
    "    data_new = list()\n",
    "    for index in range(len(data)):\n",
    "        longitude = data[index]['longitudeE7']/float(1e7)\n",
    "        if longitude > 68 and longitude < 93:\n",
    "            data_new.append(data[index])\n",
    "    return data_new\n",
    "\n",
    "def get_data(data):\n",
    "    data = remove_wrong_data(data)\n",
    "    data = sorted(data,key = lambda x: x['timestampMs'])\n",
    "    for index in range(len(data)):\n",
    "        data[index]['latitudeE7']  = data[index]['latitudeE7']/float(1e7)\n",
    "        data[index]['longitudeE7'] = data[index]['longitudeE7']/float(1e7)\n",
    "        data[index]['timestampMs'] = float(data[index]['timestampMs'])/1000\n",
    "        data[index]['datetime'] = datetime.datetime.fromtimestamp(data[index]['timestampMs'])\n",
    "        dates = get_date(data[index]['datetime'])\n",
    "        data[index]['day'] = dates['day']\n",
    "        data[index]['day_of_week'] = dates['day_of_week']\n",
    "        data[index]['month'] = dates['month']\n",
    "        data[index]['year'] = dates['year']\n",
    "        data[index]['hour'] = dates['hour']\n",
    "        if 'activity' in data[index].keys():\n",
    "            data[index]['activity'] = get_normalized_activities(data[index]['activity'])\n",
    "        if index != 0:\n",
    "            lat1 = data[index-1]['latitudeE7']\n",
    "            lat2 = data[index]['latitudeE7']\n",
    "            long1 = data[index-1]['longitudeE7']\n",
    "            long2 = data[index]['longitudeE7']\n",
    "            coords_1 = (lat1,long2)\n",
    "            coords_2 = (lat2,long2)\n",
    "            data[index]['distance'] = vincenty(coords_1,coords_2).km\n",
    "    del data[0]\n",
    "    return data\n",
    "\n",
    "def get_new_data(data):\n",
    "    data_new = list()\n",
    "    for dictionary in data:\n",
    "        if 'activity' in dictionary.keys() and dictionary['accuracy'] > 0 and dictionary['accuracy'] < 1000:\n",
    "            for activity in dictionary['activity']:\n",
    "                data_new.append({\n",
    "                    'latitude':dictionary['latitudeE7'],\n",
    "                    'longitude':dictionary['longitudeE7'],\n",
    "                    'accuracy':dictionary['accuracy'],\n",
    "                    'type':activity['type'],\n",
    "                    'confidence':activity['confidence'],\n",
    "                    'day':dictionary['day'],\n",
    "                    'hour':dictionary['hour'],\n",
    "                    'day_of_week':dictionary['day_of_week'],\n",
    "                    'month':dictionary['month'],\n",
    "                    'year':dictionary['year'],\n",
    "                    'distance':dictionary['distance'],\n",
    "                    'normalized_distance':dictionary['distance'] * activity['confidence']\n",
    "                })\n",
    "    return data_new\n",
    "\n",
    "city = {\n",
    "    'delhi':{\n",
    "        'latitude':28,\n",
    "        'longitude':78\n",
    "    },\n",
    "    'goa':{\n",
    "        'latitude':15,\n",
    "        'longitude':74\n",
    "    },\n",
    "    'jaipur':{\n",
    "        'latitude':27,\n",
    "        'longitude':75\n",
    "    },\n",
    "    'bangalore':{\n",
    "        'latitude':12,\n",
    "        'longitude':78\n",
    "    },\n",
    "    'trivandrum':{\n",
    "        'latitude':9,\n",
    "        'longitude':77\n",
    "    },\n",
    "}\n",
    "def get_city(latitude,longitude):\n",
    "    latitude = int(latitude)\n",
    "    longitude = int(longitude)\n",
    "    if latitude == 15:\n",
    "        return 'Goa'\n",
    "    elif latitude in [12,13]:\n",
    "        return 'Bangalore'\n",
    "    elif latitude == 8:\n",
    "        return 'Trivandrum'\n",
    "    elif latitude > 27.5 and latitude < 29:\n",
    "        return 'Delhi'\n",
    "    else:\n",
    "        return 'Other'"
   ]
  },
  {
   "cell_type": "code",
   "execution_count": 17,
   "metadata": {},
   "outputs": [],
   "source": [
    "data = get_data(data)\n",
    "data = get_new_data(data)\n",
    "data = pd.DataFrame(data)\n",
    "data = data[data.distance.notnull()]\n",
    "data['city'] = data.apply(lambda x: get_city(x['latitude'],x['longitude']),axis = 1)"
   ]
  },
  {
   "cell_type": "markdown",
   "metadata": {},
   "source": [
    "Let's pickle the file so that we can start directly without re-running the pre-processing steps every time we run the Jupyter Notebook"
   ]
  },
  {
   "cell_type": "code",
   "execution_count": 18,
   "metadata": {},
   "outputs": [],
   "source": [
    "import pickle\n",
    "pickle_out = open(\"data.sav\",\"wb\")\n",
    "pickle.dump(data, pickle_out)\n",
    "pickle_out.close()"
   ]
  },
  {
   "cell_type": "code",
   "execution_count": 19,
   "metadata": {},
   "outputs": [],
   "source": [
    "import pickle\n",
    "pickle_in = open(\"data.sav\",\"rb\")\n",
    "data = pickle.load(pickle_in)"
   ]
  },
  {
   "cell_type": "code",
   "execution_count": 21,
   "metadata": {
    "scrolled": false
   },
   "outputs": [
    {
     "data": {
      "text/html": [
       "<div>\n",
       "<style scoped>\n",
       "    .dataframe tbody tr th:only-of-type {\n",
       "        vertical-align: middle;\n",
       "    }\n",
       "\n",
       "    .dataframe tbody tr th {\n",
       "        vertical-align: top;\n",
       "    }\n",
       "\n",
       "    .dataframe thead th {\n",
       "        text-align: right;\n",
       "    }\n",
       "</style>\n",
       "<table border=\"1\" class=\"dataframe\">\n",
       "  <thead>\n",
       "    <tr style=\"text-align: right;\">\n",
       "      <th></th>\n",
       "      <th>accuracy</th>\n",
       "      <th>confidence</th>\n",
       "      <th>day</th>\n",
       "      <th>day_of_week</th>\n",
       "      <th>distance</th>\n",
       "      <th>hour</th>\n",
       "      <th>latitude</th>\n",
       "      <th>longitude</th>\n",
       "      <th>month</th>\n",
       "      <th>normalized_distance</th>\n",
       "      <th>type</th>\n",
       "      <th>year</th>\n",
       "      <th>city</th>\n",
       "    </tr>\n",
       "  </thead>\n",
       "  <tbody>\n",
       "    <tr>\n",
       "      <th>0</th>\n",
       "      <td>25</td>\n",
       "      <td>0.137405</td>\n",
       "      <td>19</td>\n",
       "      <td>Mon</td>\n",
       "      <td>0.959699</td>\n",
       "      <td>11</td>\n",
       "      <td>8.536644</td>\n",
       "      <td>76.883421</td>\n",
       "      <td>Feb</td>\n",
       "      <td>0.131867</td>\n",
       "      <td>ON_FOOT</td>\n",
       "      <td>2018</td>\n",
       "      <td>Trivandrum</td>\n",
       "    </tr>\n",
       "    <tr>\n",
       "      <th>1</th>\n",
       "      <td>36</td>\n",
       "      <td>0.037500</td>\n",
       "      <td>11</td>\n",
       "      <td>Sat</td>\n",
       "      <td>0.024217</td>\n",
       "      <td>0</td>\n",
       "      <td>12.907874</td>\n",
       "      <td>77.634022</td>\n",
       "      <td>Aug</td>\n",
       "      <td>0.000908</td>\n",
       "      <td>UNKNOWN</td>\n",
       "      <td>2018</td>\n",
       "      <td>Bangalore</td>\n",
       "    </tr>\n",
       "    <tr>\n",
       "      <th>2</th>\n",
       "      <td>16</td>\n",
       "      <td>0.076923</td>\n",
       "      <td>11</td>\n",
       "      <td>Mon</td>\n",
       "      <td>0.000000</td>\n",
       "      <td>23</td>\n",
       "      <td>8.553475</td>\n",
       "      <td>76.881825</td>\n",
       "      <td>June</td>\n",
       "      <td>0.000000</td>\n",
       "      <td>IN_VEHICLE</td>\n",
       "      <td>2018</td>\n",
       "      <td>Trivandrum</td>\n",
       "    </tr>\n",
       "    <tr>\n",
       "      <th>3</th>\n",
       "      <td>24</td>\n",
       "      <td>1.000000</td>\n",
       "      <td>6</td>\n",
       "      <td>Mon</td>\n",
       "      <td>0.003784</td>\n",
       "      <td>2</td>\n",
       "      <td>15.390591</td>\n",
       "      <td>73.880773</td>\n",
       "      <td>March</td>\n",
       "      <td>0.003784</td>\n",
       "      <td>STILL</td>\n",
       "      <td>2017</td>\n",
       "      <td>Goa</td>\n",
       "    </tr>\n",
       "    <tr>\n",
       "      <th>4</th>\n",
       "      <td>268</td>\n",
       "      <td>1.000000</td>\n",
       "      <td>5</td>\n",
       "      <td>Wed</td>\n",
       "      <td>0.035298</td>\n",
       "      <td>4</td>\n",
       "      <td>15.391551</td>\n",
       "      <td>73.878272</td>\n",
       "      <td>Oct</td>\n",
       "      <td>0.035298</td>\n",
       "      <td>STILL</td>\n",
       "      <td>2016</td>\n",
       "      <td>Goa</td>\n",
       "    </tr>\n",
       "    <tr>\n",
       "      <th>5</th>\n",
       "      <td>24</td>\n",
       "      <td>1.000000</td>\n",
       "      <td>24</td>\n",
       "      <td>Wed</td>\n",
       "      <td>0.000000</td>\n",
       "      <td>13</td>\n",
       "      <td>12.930805</td>\n",
       "      <td>77.632769</td>\n",
       "      <td>Oct</td>\n",
       "      <td>0.000000</td>\n",
       "      <td>TILTING</td>\n",
       "      <td>2018</td>\n",
       "      <td>Bangalore</td>\n",
       "    </tr>\n",
       "    <tr>\n",
       "      <th>6</th>\n",
       "      <td>652</td>\n",
       "      <td>0.027933</td>\n",
       "      <td>12</td>\n",
       "      <td>Thurs</td>\n",
       "      <td>0.000000</td>\n",
       "      <td>3</td>\n",
       "      <td>12.907602</td>\n",
       "      <td>77.634312</td>\n",
       "      <td>July</td>\n",
       "      <td>0.000000</td>\n",
       "      <td>IN_ROAD_VEHICLE</td>\n",
       "      <td>2018</td>\n",
       "      <td>Bangalore</td>\n",
       "    </tr>\n",
       "    <tr>\n",
       "      <th>7</th>\n",
       "      <td>29</td>\n",
       "      <td>1.000000</td>\n",
       "      <td>7</td>\n",
       "      <td>Mon</td>\n",
       "      <td>0.042503</td>\n",
       "      <td>10</td>\n",
       "      <td>8.553343</td>\n",
       "      <td>76.881671</td>\n",
       "      <td>May</td>\n",
       "      <td>0.042503</td>\n",
       "      <td>TILTING</td>\n",
       "      <td>2018</td>\n",
       "      <td>Trivandrum</td>\n",
       "    </tr>\n",
       "    <tr>\n",
       "      <th>8</th>\n",
       "      <td>52</td>\n",
       "      <td>1.000000</td>\n",
       "      <td>24</td>\n",
       "      <td>Tues</td>\n",
       "      <td>0.003817</td>\n",
       "      <td>1</td>\n",
       "      <td>12.907937</td>\n",
       "      <td>77.633974</td>\n",
       "      <td>July</td>\n",
       "      <td>0.003817</td>\n",
       "      <td>STILL</td>\n",
       "      <td>2018</td>\n",
       "      <td>Bangalore</td>\n",
       "    </tr>\n",
       "    <tr>\n",
       "      <th>9</th>\n",
       "      <td>40</td>\n",
       "      <td>0.028736</td>\n",
       "      <td>29</td>\n",
       "      <td>Mon</td>\n",
       "      <td>0.013374</td>\n",
       "      <td>19</td>\n",
       "      <td>26.885195</td>\n",
       "      <td>75.804363</td>\n",
       "      <td>June</td>\n",
       "      <td>0.000384</td>\n",
       "      <td>UNKNOWN</td>\n",
       "      <td>2015</td>\n",
       "      <td>Other</td>\n",
       "    </tr>\n",
       "  </tbody>\n",
       "</table>\n",
       "</div>"
      ],
      "text/plain": [
       "   accuracy  confidence  day day_of_week  distance  hour   latitude  \\\n",
       "0        25    0.137405   19         Mon  0.959699    11   8.536644   \n",
       "1        36    0.037500   11         Sat  0.024217     0  12.907874   \n",
       "2        16    0.076923   11         Mon  0.000000    23   8.553475   \n",
       "3        24    1.000000    6         Mon  0.003784     2  15.390591   \n",
       "4       268    1.000000    5         Wed  0.035298     4  15.391551   \n",
       "5        24    1.000000   24         Wed  0.000000    13  12.930805   \n",
       "6       652    0.027933   12       Thurs  0.000000     3  12.907602   \n",
       "7        29    1.000000    7         Mon  0.042503    10   8.553343   \n",
       "8        52    1.000000   24        Tues  0.003817     1  12.907937   \n",
       "9        40    0.028736   29         Mon  0.013374    19  26.885195   \n",
       "\n",
       "   longitude  month  normalized_distance             type  year        city  \n",
       "0  76.883421    Feb             0.131867          ON_FOOT  2018  Trivandrum  \n",
       "1  77.634022    Aug             0.000908          UNKNOWN  2018   Bangalore  \n",
       "2  76.881825   June             0.000000       IN_VEHICLE  2018  Trivandrum  \n",
       "3  73.880773  March             0.003784            STILL  2017         Goa  \n",
       "4  73.878272    Oct             0.035298            STILL  2016         Goa  \n",
       "5  77.632769    Oct             0.000000          TILTING  2018   Bangalore  \n",
       "6  77.634312   July             0.000000  IN_ROAD_VEHICLE  2018   Bangalore  \n",
       "7  76.881671    May             0.042503          TILTING  2018  Trivandrum  \n",
       "8  77.633974   July             0.003817            STILL  2018   Bangalore  \n",
       "9  75.804363   June             0.000384          UNKNOWN  2015       Other  "
      ]
     },
     "execution_count": 21,
     "metadata": {},
     "output_type": "execute_result"
    }
   ],
   "source": [
    "data.sample(10).reset_index(drop = True)"
   ]
  },
  {
   "cell_type": "code",
   "execution_count": 22,
   "metadata": {
    "scrolled": true
   },
   "outputs": [
    {
     "data": {
      "text/html": [
       "<div>\n",
       "<style scoped>\n",
       "    .dataframe tbody tr th:only-of-type {\n",
       "        vertical-align: middle;\n",
       "    }\n",
       "\n",
       "    .dataframe tbody tr th {\n",
       "        vertical-align: top;\n",
       "    }\n",
       "\n",
       "    .dataframe thead th {\n",
       "        text-align: right;\n",
       "    }\n",
       "</style>\n",
       "<table border=\"1\" class=\"dataframe\">\n",
       "  <thead>\n",
       "    <tr style=\"text-align: right;\">\n",
       "      <th></th>\n",
       "      <th>accuracy</th>\n",
       "      <th>confidence</th>\n",
       "      <th>day</th>\n",
       "      <th>distance</th>\n",
       "      <th>hour</th>\n",
       "      <th>latitude</th>\n",
       "      <th>longitude</th>\n",
       "      <th>normalized_distance</th>\n",
       "      <th>year</th>\n",
       "    </tr>\n",
       "  </thead>\n",
       "  <tbody>\n",
       "    <tr>\n",
       "      <th>count</th>\n",
       "      <td>1.185273e+06</td>\n",
       "      <td>1.185273e+06</td>\n",
       "      <td>1.185273e+06</td>\n",
       "      <td>1.185273e+06</td>\n",
       "      <td>1.185273e+06</td>\n",
       "      <td>1.185273e+06</td>\n",
       "      <td>1.185273e+06</td>\n",
       "      <td>1.185273e+06</td>\n",
       "      <td>1.185273e+06</td>\n",
       "    </tr>\n",
       "    <tr>\n",
       "      <th>mean</th>\n",
       "      <td>9.938353e+01</td>\n",
       "      <td>4.022753e-01</td>\n",
       "      <td>1.606583e+01</td>\n",
       "      <td>1.069936e+01</td>\n",
       "      <td>1.329163e+01</td>\n",
       "      <td>1.793167e+01</td>\n",
       "      <td>7.647230e+01</td>\n",
       "      <td>3.746812e+00</td>\n",
       "      <td>2.016814e+03</td>\n",
       "    </tr>\n",
       "    <tr>\n",
       "      <th>std</th>\n",
       "      <td>1.980672e+02</td>\n",
       "      <td>4.146179e-01</td>\n",
       "      <td>8.928512e+00</td>\n",
       "      <td>1.297472e+02</td>\n",
       "      <td>6.580256e+00</td>\n",
       "      <td>8.023730e+00</td>\n",
       "      <td>1.620804e+00</td>\n",
       "      <td>6.378201e+01</td>\n",
       "      <td>1.311256e+00</td>\n",
       "    </tr>\n",
       "    <tr>\n",
       "      <th>min</th>\n",
       "      <td>2.000000e+00</td>\n",
       "      <td>0.000000e+00</td>\n",
       "      <td>1.000000e+00</td>\n",
       "      <td>0.000000e+00</td>\n",
       "      <td>0.000000e+00</td>\n",
       "      <td>8.186049e+00</td>\n",
       "      <td>7.287623e+01</td>\n",
       "      <td>0.000000e+00</td>\n",
       "      <td>2.013000e+03</td>\n",
       "    </tr>\n",
       "    <tr>\n",
       "      <th>25%</th>\n",
       "      <td>2.400000e+01</td>\n",
       "      <td>4.545455e-02</td>\n",
       "      <td>8.000000e+00</td>\n",
       "      <td>1.437784e-04</td>\n",
       "      <td>9.000000e+00</td>\n",
       "      <td>1.290785e+01</td>\n",
       "      <td>7.580443e+01</td>\n",
       "      <td>1.053436e-05</td>\n",
       "      <td>2.016000e+03</td>\n",
       "    </tr>\n",
       "    <tr>\n",
       "      <th>50%</th>\n",
       "      <td>2.900000e+01</td>\n",
       "      <td>1.691176e-01</td>\n",
       "      <td>1.600000e+01</td>\n",
       "      <td>2.698609e-03</td>\n",
       "      <td>1.400000e+01</td>\n",
       "      <td>1.539145e+01</td>\n",
       "      <td>7.729344e+01</td>\n",
       "      <td>3.594875e-04</td>\n",
       "      <td>2.017000e+03</td>\n",
       "    </tr>\n",
       "    <tr>\n",
       "      <th>75%</th>\n",
       "      <td>5.100000e+01</td>\n",
       "      <td>1.000000e+00</td>\n",
       "      <td>2.400000e+01</td>\n",
       "      <td>1.412346e-02</td>\n",
       "      <td>1.900000e+01</td>\n",
       "      <td>2.866404e+01</td>\n",
       "      <td>7.732974e+01</td>\n",
       "      <td>3.491153e-03</td>\n",
       "      <td>2.018000e+03</td>\n",
       "    </tr>\n",
       "    <tr>\n",
       "      <th>max</th>\n",
       "      <td>9.990000e+02</td>\n",
       "      <td>1.000000e+00</td>\n",
       "      <td>3.100000e+01</td>\n",
       "      <td>2.457329e+03</td>\n",
       "      <td>2.300000e+01</td>\n",
       "      <td>3.069011e+01</td>\n",
       "      <td>8.733699e+01</td>\n",
       "      <td>2.457329e+03</td>\n",
       "      <td>2.018000e+03</td>\n",
       "    </tr>\n",
       "  </tbody>\n",
       "</table>\n",
       "</div>"
      ],
      "text/plain": [
       "           accuracy    confidence           day      distance          hour  \\\n",
       "count  1.185273e+06  1.185273e+06  1.185273e+06  1.185273e+06  1.185273e+06   \n",
       "mean   9.938353e+01  4.022753e-01  1.606583e+01  1.069936e+01  1.329163e+01   \n",
       "std    1.980672e+02  4.146179e-01  8.928512e+00  1.297472e+02  6.580256e+00   \n",
       "min    2.000000e+00  0.000000e+00  1.000000e+00  0.000000e+00  0.000000e+00   \n",
       "25%    2.400000e+01  4.545455e-02  8.000000e+00  1.437784e-04  9.000000e+00   \n",
       "50%    2.900000e+01  1.691176e-01  1.600000e+01  2.698609e-03  1.400000e+01   \n",
       "75%    5.100000e+01  1.000000e+00  2.400000e+01  1.412346e-02  1.900000e+01   \n",
       "max    9.990000e+02  1.000000e+00  3.100000e+01  2.457329e+03  2.300000e+01   \n",
       "\n",
       "           latitude     longitude  normalized_distance          year  \n",
       "count  1.185273e+06  1.185273e+06         1.185273e+06  1.185273e+06  \n",
       "mean   1.793167e+01  7.647230e+01         3.746812e+00  2.016814e+03  \n",
       "std    8.023730e+00  1.620804e+00         6.378201e+01  1.311256e+00  \n",
       "min    8.186049e+00  7.287623e+01         0.000000e+00  2.013000e+03  \n",
       "25%    1.290785e+01  7.580443e+01         1.053436e-05  2.016000e+03  \n",
       "50%    1.539145e+01  7.729344e+01         3.594875e-04  2.017000e+03  \n",
       "75%    2.866404e+01  7.732974e+01         3.491153e-03  2.018000e+03  \n",
       "max    3.069011e+01  8.733699e+01         2.457329e+03  2.018000e+03  "
      ]
     },
     "execution_count": 22,
     "metadata": {},
     "output_type": "execute_result"
    }
   ],
   "source": [
    "data.describe()"
   ]
  },
  {
   "cell_type": "code",
   "execution_count": 23,
   "metadata": {
    "scrolled": true
   },
   "outputs": [
    {
     "data": {
      "image/png": "[encoded data removed]",
      "text/plain": [
       "<Figure size 432x288 with 1 Axes>"
      ]
     },
     "metadata": {
      "needs_background": "light"
     },
     "output_type": "display_data"
    }
   ],
   "source": [
    "sns.distplot(data.normalized_distance)\n",
    "plt.savefig('fig_normalized_distance.png', dpi = 300)\n",
    "plt.show()"
   ]
  },
  {
   "cell_type": "code",
   "execution_count": 24,
   "metadata": {},
   "outputs": [],
   "source": [
    "values = data.normalized_distance.values\n",
    "blocks = ['0_0.01','0.001-0.1','0.1-0.5','0.5-1','1-2','2-5','5-10','10-20','20-50','50-100','100+']\n",
    "block_values = [0,0,0,0,0,0,0,0,0,0,0]\n",
    "\n",
    "for value in values:\n",
    "    if value > 0 and value < 0.01:\n",
    "        block_values[0] += 1\n",
    "    if value > 0 and value < 0.1:\n",
    "        block_values[1] += 1\n",
    "    if value > 0.1 and value < 0.5:\n",
    "        block_values[2] += 1\n",
    "    elif value > 0.5 and value < 1:\n",
    "        block_values[3] += 1\n",
    "    elif value > 1 and value < 2:\n",
    "        block_values[4] += 1\n",
    "    elif value > 2 and value < 5:\n",
    "        block_values[5] += 1\n",
    "    elif value > 5 and value < 10:\n",
    "        block_values[6] += 1\n",
    "    elif value > 10 and value < 20:\n",
    "        block_values[7] += 1\n",
    "    elif value > 20 and value < 50:\n",
    "        block_values[8] += 1\n",
    "    elif value > 50 and value < 100:\n",
    "        block_values[9] += 1\n",
    "    elif value > 100:\n",
    "        block_values[10] += 1"
   ]
  },
  {
   "cell_type": "code",
   "execution_count": 25,
   "metadata": {},
   "outputs": [
    {
     "data": {
      "image/png": "[encoded data removed]",
      "text/plain": [
       "<Figure size 432x288 with 1 Axes>"
      ]
     },
     "metadata": {
      "needs_background": "light"
     },
     "output_type": "display_data"
    }
   ],
   "source": [
    "sns.barplot(x = blocks,y = block_values)\n",
    "plt.savefig('fig_bar_chart.png', dpi = 300)\n",
    "plt.show()"
   ]
  },
  {
   "cell_type": "code",
   "execution_count": 26,
   "metadata": {},
   "outputs": [],
   "source": [
    "data_low = data[data.normalized_distance < 1]\n",
    "data_large = data[data.normalized_distance > 1]"
   ]
  },
  {
   "cell_type": "code",
   "execution_count": 27,
   "metadata": {},
   "outputs": [
    {
     "data": {
      "image/png": "[encoded data removed]",
      "text/plain": [
       "<Figure size 432x288 with 1 Axes>"
      ]
     },
     "metadata": {
      "needs_background": "light"
     },
     "output_type": "display_data"
    }
   ],
   "source": [
    "sns.distplot(data_large.normalized_distance)\n",
    "plt.show()"
   ]
  },
  {
   "cell_type": "code",
   "execution_count": 28,
   "metadata": {},
   "outputs": [
    {
     "data": {
      "image/png": "[encoded data removed]",
      "text/plain": [
       "<Figure size 432x288 with 1 Axes>"
      ]
     },
     "metadata": {
      "needs_background": "light"
     },
     "output_type": "display_data"
    }
   ],
   "source": [
    "sns.distplot(data_low.normalized_distance)\n",
    "plt.show()"
   ]
  },
  {
   "cell_type": "markdown",
   "metadata": {},
   "source": [
    "# Geography"
   ]
  },
  {
   "cell_type": "code",
   "execution_count": 29,
   "metadata": {},
   "outputs": [
    {
     "data": {
      "image/png": "[encoded data removed]",
      "text/plain": [
       "<Figure size 432x288 with 1 Axes>"
      ]
     },
     "metadata": {
      "needs_background": "light"
     },
     "output_type": "display_data"
    }
   ],
   "source": [
    "temp = data_low[['city','normalized_distance']]\n",
    "temp = temp.groupby(['city']).sum().reset_index()\n",
    "sns.barplot(x=\"city\", y=\"normalized_distance\",data=temp)\n",
    "plt.savefig('city_wise_distance.png', dpi = 300)\n",
    "plt.show()"
   ]
  },
  {
   "cell_type": "code",
   "execution_count": 30,
   "metadata": {
    "scrolled": true
   },
   "outputs": [
    {
     "data": {
      "image/png": "[encoded data removed]",
      "text/plain": [
       "<Figure size 432x288 with 1 Axes>"
      ]
     },
     "metadata": {
      "needs_background": "light"
     },
     "output_type": "display_data"
    }
   ],
   "source": [
    "temp = data_low[['city','year','normalized_distance']]\n",
    "temp = temp.groupby(['city','year']).sum().reset_index()\n",
    "sns.barplot(x=\"city\", y=\"normalized_distance\",hue='year',data=temp)\n",
    "plt.savefig('city_year_wise_distance.png', dpi = 300)\n",
    "plt.show()"
   ]
  },
  {
   "cell_type": "markdown",
   "metadata": {},
   "source": [
    "# Day of week vs distance normalized"
   ]
  },
  {
   "cell_type": "code",
   "execution_count": 31,
   "metadata": {
    "scrolled": true
   },
   "outputs": [
    {
     "data": {
      "text/html": [
       "<div>\n",
       "<style scoped>\n",
       "    .dataframe tbody tr th:only-of-type {\n",
       "        vertical-align: middle;\n",
       "    }\n",
       "\n",
       "    .dataframe tbody tr th {\n",
       "        vertical-align: top;\n",
       "    }\n",
       "\n",
       "    .dataframe thead th {\n",
       "        text-align: right;\n",
       "    }\n",
       "</style>\n",
       "<table border=\"1\" class=\"dataframe\">\n",
       "  <thead>\n",
       "    <tr style=\"text-align: right;\">\n",
       "      <th></th>\n",
       "      <th>accuracy</th>\n",
       "      <th>confidence</th>\n",
       "      <th>day</th>\n",
       "      <th>day_of_week</th>\n",
       "      <th>distance</th>\n",
       "      <th>hour</th>\n",
       "      <th>latitude</th>\n",
       "      <th>longitude</th>\n",
       "      <th>month</th>\n",
       "      <th>normalized_distance</th>\n",
       "      <th>type</th>\n",
       "      <th>year</th>\n",
       "      <th>city</th>\n",
       "    </tr>\n",
       "  </thead>\n",
       "  <tbody>\n",
       "    <tr>\n",
       "      <th>87623</th>\n",
       "      <td>19</td>\n",
       "      <td>0.097087</td>\n",
       "      <td>15</td>\n",
       "      <td>Mon</td>\n",
       "      <td>0.362665</td>\n",
       "      <td>15</td>\n",
       "      <td>28.568453</td>\n",
       "      <td>77.216958</td>\n",
       "      <td>June</td>\n",
       "      <td>0.035210</td>\n",
       "      <td>ON_BICYCLE</td>\n",
       "      <td>2015</td>\n",
       "      <td>Delhi</td>\n",
       "    </tr>\n",
       "    <tr>\n",
       "      <th>551939</th>\n",
       "      <td>22</td>\n",
       "      <td>1.000000</td>\n",
       "      <td>21</td>\n",
       "      <td>Mon</td>\n",
       "      <td>0.007215</td>\n",
       "      <td>22</td>\n",
       "      <td>28.664988</td>\n",
       "      <td>77.329616</td>\n",
       "      <td>Aug</td>\n",
       "      <td>0.007215</td>\n",
       "      <td>STILL</td>\n",
       "      <td>2017</td>\n",
       "      <td>Delhi</td>\n",
       "    </tr>\n",
       "    <tr>\n",
       "      <th>470284</th>\n",
       "      <td>24</td>\n",
       "      <td>1.000000</td>\n",
       "      <td>18</td>\n",
       "      <td>Wed</td>\n",
       "      <td>0.000000</td>\n",
       "      <td>23</td>\n",
       "      <td>15.391833</td>\n",
       "      <td>73.880773</td>\n",
       "      <td>Jan</td>\n",
       "      <td>0.000000</td>\n",
       "      <td>STILL</td>\n",
       "      <td>2017</td>\n",
       "      <td>Goa</td>\n",
       "    </tr>\n",
       "    <tr>\n",
       "      <th>229798</th>\n",
       "      <td>99</td>\n",
       "      <td>0.019417</td>\n",
       "      <td>4</td>\n",
       "      <td>Fri</td>\n",
       "      <td>0.000000</td>\n",
       "      <td>21</td>\n",
       "      <td>15.392480</td>\n",
       "      <td>73.879917</td>\n",
       "      <td>Dec</td>\n",
       "      <td>0.000000</td>\n",
       "      <td>ON_FOOT</td>\n",
       "      <td>2015</td>\n",
       "      <td>Goa</td>\n",
       "    </tr>\n",
       "    <tr>\n",
       "      <th>764043</th>\n",
       "      <td>26</td>\n",
       "      <td>0.027778</td>\n",
       "      <td>5</td>\n",
       "      <td>Mon</td>\n",
       "      <td>0.003130</td>\n",
       "      <td>17</td>\n",
       "      <td>8.536613</td>\n",
       "      <td>76.883369</td>\n",
       "      <td>March</td>\n",
       "      <td>0.000087</td>\n",
       "      <td>ON_BICYCLE</td>\n",
       "      <td>2018</td>\n",
       "      <td>Trivandrum</td>\n",
       "    </tr>\n",
       "  </tbody>\n",
       "</table>\n",
       "</div>"
      ],
      "text/plain": [
       "        accuracy  confidence  day day_of_week  distance  hour   latitude  \\\n",
       "87623         19    0.097087   15         Mon  0.362665    15  28.568453   \n",
       "551939        22    1.000000   21         Mon  0.007215    22  28.664988   \n",
       "470284        24    1.000000   18         Wed  0.000000    23  15.391833   \n",
       "229798        99    0.019417    4         Fri  0.000000    21  15.392480   \n",
       "764043        26    0.027778    5         Mon  0.003130    17   8.536613   \n",
       "\n",
       "        longitude  month  normalized_distance        type  year        city  \n",
       "87623   77.216958   June             0.035210  ON_BICYCLE  2015       Delhi  \n",
       "551939  77.329616    Aug             0.007215       STILL  2017       Delhi  \n",
       "470284  73.880773    Jan             0.000000       STILL  2017         Goa  \n",
       "229798  73.879917    Dec             0.000000     ON_FOOT  2015         Goa  \n",
       "764043  76.883369  March             0.000087  ON_BICYCLE  2018  Trivandrum  "
      ]
     },
     "execution_count": 31,
     "metadata": {},
     "output_type": "execute_result"
    }
   ],
   "source": [
    "data_low.sample(5)"
   ]
  },
  {
   "cell_type": "code",
   "execution_count": 32,
   "metadata": {
    "scrolled": true
   },
   "outputs": [
    {
     "data": {
      "image/png": "[encoded data removed]",
      "text/plain": [
       "<Figure size 432x288 with 1 Axes>"
      ]
     },
     "metadata": {
      "needs_background": "light"
     },
     "output_type": "display_data"
    }
   ],
   "source": [
    "temp = data_low[['day_of_week','normalized_distance','year']].groupby(['day_of_week','year']).sum().reset_index()\n",
    "index = [5,1,6,7,4,2,3]\n",
    "indexes = list()\n",
    "for i in range(len(index)):\n",
    "    for j in range(6):\n",
    "        indexes.append(index[i])\n",
    "temp.index = indexes\n",
    "temp.sort_index(inplace=True)\n",
    "sns.barplot(x=\"day_of_week\", y=\"normalized_distance\",hue='year',data=temp)\n",
    "plt.savefig('fig2.png', dpi = 300)\n",
    "plt.show()"
   ]
  },
  {
   "cell_type": "markdown",
   "metadata": {},
   "source": [
    "# Year vs Distance Normalized"
   ]
  },
  {
   "cell_type": "code",
   "execution_count": 33,
   "metadata": {},
   "outputs": [
    {
     "data": {
      "image/png": "[encoded data removed]",
      "text/plain": [
       "<Figure size 432x288 with 1 Axes>"
      ]
     },
     "metadata": {
      "needs_background": "light"
     },
     "output_type": "display_data"
    }
   ],
   "source": [
    "temp = data_low[['year','normalized_distance']].groupby(['year']).sum().reset_index()\n",
    "sns.barplot(x=\"year\", y=\"normalized_distance\",data=temp)\n",
    "plt.show()"
   ]
  },
  {
   "cell_type": "markdown",
   "metadata": {},
   "source": [
    "# Year vs Distance Normalized"
   ]
  },
  {
   "cell_type": "code",
   "execution_count": 34,
   "metadata": {},
   "outputs": [
    {
     "data": {
      "image/png": "[encoded data removed]",
      "text/plain": [
       "<Figure size 432x288 with 1 Axes>"
      ]
     },
     "metadata": {
      "needs_background": "light"
     },
     "output_type": "display_data"
    }
   ],
   "source": [
    "temp = data_large[['year','normalized_distance']].groupby(['year']).sum().reset_index()\n",
    "data_large.sort_values(by = ['normalized_distance'],ascending=False)\n",
    "sns.barplot(x=\"year\", y=\"normalized_distance\",data=temp)\n",
    "plt.show()"
   ]
  },
  {
   "cell_type": "markdown",
   "metadata": {},
   "source": [
    "# Type vs Distance Normalized"
   ]
  },
  {
   "cell_type": "code",
   "execution_count": 35,
   "metadata": {},
   "outputs": [],
   "source": [
    "mapping_function = {\n",
    "    'TILTING':'others',\n",
    "    'STILL':'others',\n",
    "    'UNKNOWN':'others',\n",
    "    'IN_VEHICLE':'vehicle',\n",
    "    'IN_ROAD_VEHICLE':'vehicle',\n",
    "    'IN_RAIL_VEHICLE':'vehicle',\n",
    "    'IN_FOUR_WHEELER_VEHICLE':'vehicle',\n",
    "    'EXITING_VEHICLE':'vehicle',\n",
    "    'IN_TWO_WHEELER_VEHICLE':'vehicle',\n",
    "    'ON_FOOT':'walk',\n",
    "    'WALKING':'walk',\n",
    "    'ON_BICYCLE':'walk',\n",
    "    'RUNNING':'walk',\n",
    "}\n",
    "def travel_pattern(city_name):\n",
    "    temp = data_low[data_low.city == city_name]\n",
    "    temp = temp[['day_of_week','type','normalized_distance']]\n",
    "    temp.type = temp.type.map(mapping_function)\n",
    "    temp = temp.groupby(['day_of_week','type']).sum().reset_index(drop = False)\n",
    "    temp = temp[temp.type.isin(['vehicle','walk'])]\n",
    "    temp.index = [5,5,1,1,6,6,7,7,4,4,2,2,3,3]\n",
    "    temp = temp.sort_index().reset_index(drop = True)\n",
    "    sns.barplot(x='day_of_week', y='normalized_distance',hue='type',data = temp)\n",
    "    plt.title('Travel Pattern in ' + city_name)\n",
    "    plt.savefig(city_name + '.png', dpi = 300)\n",
    "    plt.show()\n",
    "    return "
   ]
  },
  {
   "cell_type": "code",
   "execution_count": 36,
   "metadata": {
    "scrolled": true
   },
   "outputs": [
    {
     "data": {
      "image/png": "[encoded data removed]",
      "text/plain": [
       "<Figure size 432x288 with 1 Axes>"
      ]
     },
     "metadata": {
      "needs_background": "light"
     },
     "output_type": "display_data"
    }
   ],
   "source": [
    "travel_pattern('Bangalore')"
   ]
  },
  {
   "cell_type": "markdown",
   "metadata": {},
   "source": [
    "# Bangalore"
   ]
  },
  {
   "cell_type": "code",
   "execution_count": 39,
   "metadata": {},
   "outputs": [
    {
     "data": {
      "image/png": "[encoded data removed]",
      "text/plain": [
       "<Figure size 432x288 with 1 Axes>"
      ]
     },
     "metadata": {
      "needs_background": "light"
     },
     "output_type": "display_data"
    }
   ],
   "source": [
    "temp = data_low[data_low.city == 'Bangalore']\n",
    "temp = temp[temp.year == 2018]\n",
    "temp = temp[temp.month != 'Jan']\n",
    "temp.type = temp.type.map(mapping_function)\n",
    "temp = temp[['month','normalized_distance','type']]\n",
    "temp = temp.groupby(['month','type']).sum().reset_index(drop = False)\n",
    "temp = temp[temp.type != 'others']\n",
    "index = [8,7,6,11,10,9]\n",
    "indexes = list()\n",
    "for i in range(len(index)):\n",
    "    for j in range(2):\n",
    "        indexes.append(index[i])\n",
    "temp.index = indexes\n",
    "temp.sort_index(inplace = True)\n",
    "sns.barplot(x=\"month\", y=\"normalized_distance\",hue='type',data=temp)\n",
    "plt.title('Travel patterns in Bangalore')\n",
    "plt.savefig('Travel patterns in Bangalore.png', dpi = 300)\n",
    "plt.show()"
   ]
  },
  {
   "cell_type": "markdown",
   "metadata": {},
   "source": [
    "# Trivandrum"
   ]
  },
  {
   "cell_type": "code",
   "execution_count": 40,
   "metadata": {},
   "outputs": [
    {
     "data": {
      "image/png": "[encoded data removed]",
      "text/plain": [
       "<Figure size 432x288 with 1 Axes>"
      ]
     },
     "metadata": {
      "needs_background": "light"
     },
     "output_type": "display_data"
    }
   ],
   "source": [
    "temp = data_low[data_low.city == 'Trivandrum']\n",
    "temp = temp[temp.year == 2018]\n",
    "temp.type = temp.type.map(mapping_function)\n",
    "temp = temp[['month','normalized_distance','type']]\n",
    "temp = temp.groupby(['month','type']).sum().reset_index(drop = False)\n",
    "temp = temp[temp.type != 'others']\n",
    "index = [4,2,1,6,3,5]\n",
    "indexes = list()\n",
    "for i in range(len(index)):\n",
    "    for j in range(2):\n",
    "        indexes.append(index[i])\n",
    "temp.index = indexes\n",
    "temp.sort_index(inplace = True)\n",
    "sns.barplot(x=\"month\", y=\"normalized_distance\",hue='type',data=temp)\n",
    "plt.title('Travel patterns in Trivandrum')\n",
    "plt.savefig('Travel patterns in Trivandrum.png', dpi = 300)\n",
    "plt.show()"
   ]
  },
  {
   "cell_type": "markdown",
   "metadata": {},
   "source": [
    "# Bangalore vs Trivandrum"
   ]
  },
  {
   "cell_type": "code",
   "execution_count": 41,
   "metadata": {},
   "outputs": [],
   "source": [
    "def day_type_mapping(day):\n",
    "    if day in ['Sat','Sun']:\n",
    "        return 'Weekend'\n",
    "    return 'Weekday'"
   ]
  },
  {
   "cell_type": "code",
   "execution_count": 42,
   "metadata": {},
   "outputs": [
    {
     "data": {
      "image/png": "[encoded data removed]",
      "text/plain": [
       "<Figure size 432x288 with 1 Axes>"
      ]
     },
     "metadata": {
      "needs_background": "light"
     },
     "output_type": "display_data"
    }
   ],
   "source": [
    "temp = data_low[data_low.city.isin(['Bangalore','Trivandrum'])]\n",
    "temp = temp[['day_of_week','type','normalized_distance','city']]\n",
    "temp.type = temp.type.map(mapping_function)\n",
    "temp = temp[temp.type == 'walk']\n",
    "temp = temp[['day_of_week','normalized_distance','city']]\n",
    "temp = temp.groupby(['day_of_week','city']).sum().reset_index()\n",
    "mean_bangalore = temp['normalized_distance'][temp.city == 'Bangalore'].sum()\n",
    "mean_trivandrum = temp['normalized_distance'][temp.city == 'Trivandrum'].sum()\n",
    "temp['normalized_distance'][temp.city == 'Bangalore'] = temp['normalized_distance'] / mean_bangalore\n",
    "temp['normalized_distance'][temp.city == 'Trivandrum'] = temp['normalized_distance'] / mean_trivandrum\n",
    "temp.sort_values(by = ['day_of_week'],inplace = True)\n",
    "temp.index = [5,5,1,1,6,6,7,7,4,4,2,2,3,3]\n",
    "temp.sort_index(inplace = True)\n",
    "sns.barplot(x=\"day_of_week\", y=\"normalized_distance\",hue='city',data=temp)\n",
    "plt.title('Walk pattern')\n",
    "plt.savefig('Walk.png', dpi = 300)\n",
    "plt.show()"
   ]
  },
  {
   "cell_type": "code",
   "execution_count": 43,
   "metadata": {},
   "outputs": [
    {
     "data": {
      "image/png": "[encoded data removed]",
      "text/plain": [
       "<Figure size 432x288 with 1 Axes>"
      ]
     },
     "metadata": {
      "needs_background": "light"
     },
     "output_type": "display_data"
    }
   ],
   "source": [
    "temp = data_low[data_low.city.isin(['Bangalore','Trivandrum'])]\n",
    "temp = temp[['day_of_week','type','normalized_distance','city']]\n",
    "temp.type = temp.type.map(mapping_function)\n",
    "temp = temp[temp.type == 'vehicle']\n",
    "temp = temp[['day_of_week','normalized_distance','city']]\n",
    "temp = temp.groupby(['day_of_week','city']).sum().reset_index()\n",
    "mean_bangalore = temp['normalized_distance'][temp.city == 'Bangalore'].sum()\n",
    "mean_trivandrum = temp['normalized_distance'][temp.city == 'Trivandrum'].sum()\n",
    "temp['normalized_distance'][temp.city == 'Bangalore'] = temp['normalized_distance'] / mean_bangalore\n",
    "temp['normalized_distance'][temp.city == 'Trivandrum'] = temp['normalized_distance'] / mean_trivandrum\n",
    "temp.sort_values(by = ['day_of_week'],inplace = True)\n",
    "temp.index = [5,5,1,1,6,6,7,7,4,4,2,2,3,3]\n",
    "temp.sort_index(inplace = True)\n",
    "sns.barplot(x=\"day_of_week\", y=\"normalized_distance\",hue='city',data=temp)\n",
    "plt.title('Vehicle pattern')\n",
    "plt.savefig('Vehicle.png', dpi = 300)\n",
    "plt.show()"
   ]
  },
  {
   "cell_type": "markdown",
   "metadata": {},
   "source": [
    "# type vs Hour"
   ]
  },
  {
   "cell_type": "code",
   "execution_count": 44,
   "metadata": {},
   "outputs": [],
   "source": [
    "def get_time_blocks(time):\n",
    "    if time < 5:\n",
    "        return '0-5'\n",
    "    elif time > 5 and time < 7:\n",
    "        return '5-7'\n",
    "    elif time > 7 and time < 10:\n",
    "        return '7-10'\n",
    "    elif time > 10 and time < 16:\n",
    "        return '10-16'\n",
    "    elif time > 16 and time < 20:\n",
    "        return '16-20'\n",
    "    else:\n",
    "        return '20-24'"
   ]
  },
  {
   "cell_type": "code",
   "execution_count": 45,
   "metadata": {},
   "outputs": [],
   "source": [
    "def time_vs_hour(city):\n",
    "    temp = data_low[data_low.city == city]\n",
    "    temp = temp[['hour','type','normalized_distance']]\n",
    "    temp.type = temp.type.map(mapping_function)\n",
    "    temp.hour = temp.hour.apply(lambda x: get_time_blocks(x))\n",
    "    temp = temp.groupby(['hour','type']).sum().reset_index(drop = False)\n",
    "    temp = temp[temp.type != 'others']\n",
    "    temp.index = [1,1,4,4,5,5,6,6,2,2,3,3]\n",
    "    temp.sort_index(inplace = True)\n",
    "    temp = temp[temp.type != 'others']\n",
    "    sns.barplot(x=\"hour\", y=\"normalized_distance\",hue='type',data=temp)\n",
    "    plt.title(city + ' travel pattern')\n",
    "    plt.savefig(city + '_travel_pattern.png', dpi = 300)\n",
    "    plt.show()"
   ]
  },
  {
   "cell_type": "code",
   "execution_count": 46,
   "metadata": {},
   "outputs": [
    {
     "data": {
      "image/png": "[encoded data removed]",
      "text/plain": [
       "<Figure size 432x288 with 1 Axes>"
      ]
     },
     "metadata": {
      "needs_background": "light"
     },
     "output_type": "display_data"
    }
   ],
   "source": [
    "time_vs_hour('Bangalore')"
   ]
  },
  {
   "cell_type": "code",
   "execution_count": 47,
   "metadata": {},
   "outputs": [
    {
     "data": {
      "image/png": "[encoded data removed]",
      "text/plain": [
       "<Figure size 432x288 with 1 Axes>"
      ]
     },
     "metadata": {
      "needs_background": "light"
     },
     "output_type": "display_data"
    }
   ],
   "source": [
    "time_vs_hour('Trivandrum')"
   ]
  },
  {
   "cell_type": "code",
   "execution_count": 48,
   "metadata": {},
   "outputs": [],
   "source": [
    "def city_vs_hour(typ,title):\n",
    "    temp = data_low[data_low.city.isin(['Bangalore','Trivandrum'])]\n",
    "    temp.type = temp.type.map(mapping_function)\n",
    "    temp = temp[temp.type == typ]\n",
    "    temp = temp[['hour','city','normalized_distance']]\n",
    "    temp.hour = temp.hour.apply(lambda x: get_time_blocks(x))\n",
    "    temp = temp.groupby(['hour','city']).sum().reset_index(drop = False)\n",
    "    temp.index = [1,1,4,4,5,5,6,6,2,2,3,3]\n",
    "    temp.sort_index(inplace = True)\n",
    "    sns.barplot(x=\"hour\", y=\"normalized_distance\",hue='city',data=temp)\n",
    "    plt.title(title)\n",
    "    plt.savefig(title +'.png', dpi = 300)\n",
    "    plt.show()"
   ]
  },
  {
   "cell_type": "code",
   "execution_count": 49,
   "metadata": {},
   "outputs": [
    {
     "data": {
      "image/png": "[encoded data removed]",
      "text/plain": [
       "<Figure size 432x288 with 1 Axes>"
      ]
     },
     "metadata": {
      "needs_background": "light"
     },
     "output_type": "display_data"
    }
   ],
   "source": [
    "city_vs_hour('vehicle',title = 'Vehicle Usage Pattern')"
   ]
  },
  {
   "cell_type": "code",
   "execution_count": 50,
   "metadata": {},
   "outputs": [
    {
     "data": {
      "image/png": "[encoded data removed]",
      "text/plain": [
       "<Figure size 432x288 with 1 Axes>"
      ]
     },
     "metadata": {
      "needs_background": "light"
     },
     "output_type": "display_data"
    }
   ],
   "source": [
    "city_vs_hour('walk',title = 'Walking Patterns')"
   ]
  },
  {
   "cell_type": "code",
   "execution_count": 53,
   "metadata": {},
   "outputs": [
    {
     "data": {
      "image/png": "[encoded data removed]",
      "text/plain": [
       "<Figure size 432x288 with 1 Axes>"
      ]
     },
     "metadata": {
      "needs_background": "light"
     },
     "output_type": "display_data"
    }
   ],
   "source": [
    "plt.hist(data_large.normalized_distance)\n",
    "plt.show()"
   ]
  }
 ],
 "metadata": {
  "kernelspec": {
   "display_name": "Python 3",
   "language": "python",
   "name": "python3"
  },
  "language_info": {
   "codemirror_mode": {
    "name": "ipython",
    "version": 3
   },
   "file_extension": ".py",
   "mimetype": "text/x-python",
   "name": "python",
   "nbconvert_exporter": "python",
   "pygments_lexer": "ipython3",
   "version": "3.7.0"
  }
 },
 "nbformat": 4,
 "nbformat_minor": 2
}
